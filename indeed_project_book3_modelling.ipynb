{
 "cells": [
  {
   "cell_type": "markdown",
   "metadata": {
    "focus": false,
    "id": "69b9a648-bcc7-490d-9f9b-ea244d156bd6"
   },
   "source": [
    "<img src=\"http://imgur.com/1ZcRyrc.png\" style=\"float: left; margin: 15px; height: 80px\">\n",
    "\n",
    "\n",
    "# Web Scraping for Indeed.com and Predicting Salaries"
   ]
  },
  {
   "cell_type": "markdown",
   "metadata": {},
   "source": [
    "# Loading packages and data"
   ]
  },
  {
   "cell_type": "code",
   "execution_count": 1,
   "metadata": {
    "focus": false,
    "id": "2efefc73-064a-482d-b3b5-ddf5508cb4ec",
    "scrolled": true
   },
   "outputs": [],
   "source": [
    "import pandas as pd\n",
    "import numpy as np\n",
    "from tqdm import tqdm\n",
    "from sklearn.feature_extraction.text import CountVectorizer, TfidfVectorizer\n",
    "from sklearn.linear_model import LogisticRegression\n",
    "from sklearn.pipeline import make_pipeline\n",
    "from sklearn.model_selection import cross_val_score\n",
    "import matplotlib.pyplot as plt"
   ]
  },
  {
   "cell_type": "code",
   "execution_count": 2,
   "metadata": {},
   "outputs": [],
   "source": [
    "df_cleaned = pd.read_csv('/Users/harmeetgill/Documents/Jobs/General_assembly/Github_repos/DSI15-project-submissions/Harmeet-Gill/project-4/df_to_clean_v2 copy.csv')"
   ]
  },
  {
   "cell_type": "code",
   "execution_count": 3,
   "metadata": {},
   "outputs": [
    {
     "data": {
      "text/html": [
       "<div>\n",
       "<style scoped>\n",
       "    .dataframe tbody tr th:only-of-type {\n",
       "        vertical-align: middle;\n",
       "    }\n",
       "\n",
       "    .dataframe tbody tr th {\n",
       "        vertical-align: top;\n",
       "    }\n",
       "\n",
       "    .dataframe thead th {\n",
       "        text-align: right;\n",
       "    }\n",
       "</style>\n",
       "<table border=\"1\" class=\"dataframe\">\n",
       "  <thead>\n",
       "    <tr style=\"text-align: right;\">\n",
       "      <th></th>\n",
       "      <th>Location</th>\n",
       "      <th>salary_mean_normalised</th>\n",
       "      <th>High or low (50%)</th>\n",
       "      <th>High or low (75%)</th>\n",
       "      <th>Title clean</th>\n",
       "      <th>Company_clean</th>\n",
       "    </tr>\n",
       "  </thead>\n",
       "  <tbody>\n",
       "    <tr>\n",
       "      <th>0</th>\n",
       "      <td>London</td>\n",
       "      <td>30000.00</td>\n",
       "      <td>1</td>\n",
       "      <td>1</td>\n",
       "      <td>computer vision and machine learning engineer</td>\n",
       "      <td>flox ltd</td>\n",
       "    </tr>\n",
       "    <tr>\n",
       "      <th>1</th>\n",
       "      <td>Stratford</td>\n",
       "      <td>31000.00</td>\n",
       "      <td>1</td>\n",
       "      <td>1</td>\n",
       "      <td>data and research analyst</td>\n",
       "      <td>cancer research uk</td>\n",
       "    </tr>\n",
       "    <tr>\n",
       "      <th>2</th>\n",
       "      <td>London</td>\n",
       "      <td>60000.00</td>\n",
       "      <td>1</td>\n",
       "      <td>1</td>\n",
       "      <td>data scientist   verv   london or sheffield</td>\n",
       "      <td>austin consultants</td>\n",
       "    </tr>\n",
       "    <tr>\n",
       "      <th>3</th>\n",
       "      <td>London</td>\n",
       "      <td>134400.00</td>\n",
       "      <td>1</td>\n",
       "      <td>1</td>\n",
       "      <td>data scientist   machine learning</td>\n",
       "      <td>harnham</td>\n",
       "    </tr>\n",
       "    <tr>\n",
       "      <th>4</th>\n",
       "      <td>London</td>\n",
       "      <td>51500.00</td>\n",
       "      <td>1</td>\n",
       "      <td>1</td>\n",
       "      <td>principal data scientist</td>\n",
       "      <td>nesta</td>\n",
       "    </tr>\n",
       "    <tr>\n",
       "      <th>...</th>\n",
       "      <td>...</td>\n",
       "      <td>...</td>\n",
       "      <td>...</td>\n",
       "      <td>...</td>\n",
       "      <td>...</td>\n",
       "      <td>...</td>\n",
       "    </tr>\n",
       "    <tr>\n",
       "      <th>1245</th>\n",
       "      <td>Didcot</td>\n",
       "      <td>60000.00</td>\n",
       "      <td>1</td>\n",
       "      <td>1</td>\n",
       "      <td>customer success manager,  customer experience...</td>\n",
       "      <td>the purely recruitment company ltd</td>\n",
       "    </tr>\n",
       "    <tr>\n",
       "      <th>1246</th>\n",
       "      <td>Oxford</td>\n",
       "      <td>27012.00</td>\n",
       "      <td>0</td>\n",
       "      <td>0</td>\n",
       "      <td>employment advisor   fixed term contract  jets...</td>\n",
       "      <td>activate learning</td>\n",
       "    </tr>\n",
       "    <tr>\n",
       "      <th>1247</th>\n",
       "      <td>Oxford</td>\n",
       "      <td>153800.00</td>\n",
       "      <td>1</td>\n",
       "      <td>1</td>\n",
       "      <td>guest speaker</td>\n",
       "      <td>oxford summer courses</td>\n",
       "    </tr>\n",
       "    <tr>\n",
       "      <th>1248</th>\n",
       "      <td>Brackley</td>\n",
       "      <td>28773.00</td>\n",
       "      <td>1</td>\n",
       "      <td>1</td>\n",
       "      <td>multi skilled operative</td>\n",
       "      <td>grand union housing group</td>\n",
       "    </tr>\n",
       "    <tr>\n",
       "      <th>1249</th>\n",
       "      <td>Banbury</td>\n",
       "      <td>13718.96</td>\n",
       "      <td>0</td>\n",
       "      <td>0</td>\n",
       "      <td>general operative</td>\n",
       "      <td>the best connection employment group</td>\n",
       "    </tr>\n",
       "  </tbody>\n",
       "</table>\n",
       "<p>1250 rows × 6 columns</p>\n",
       "</div>"
      ],
      "text/plain": [
       "       Location  salary_mean_normalised  High or low (50%)  High or low (75%)  \\\n",
       "0        London                30000.00                  1                  1   \n",
       "1     Stratford                31000.00                  1                  1   \n",
       "2        London                60000.00                  1                  1   \n",
       "3        London               134400.00                  1                  1   \n",
       "4        London                51500.00                  1                  1   \n",
       "...         ...                     ...                ...                ...   \n",
       "1245     Didcot                60000.00                  1                  1   \n",
       "1246     Oxford                27012.00                  0                  0   \n",
       "1247     Oxford               153800.00                  1                  1   \n",
       "1248   Brackley                28773.00                  1                  1   \n",
       "1249    Banbury                13718.96                  0                  0   \n",
       "\n",
       "                                            Title clean  \\\n",
       "0         computer vision and machine learning engineer   \n",
       "1                             data and research analyst   \n",
       "2           data scientist   verv   london or sheffield   \n",
       "3                    data scientist   machine learning    \n",
       "4                             principal data scientist    \n",
       "...                                                 ...   \n",
       "1245  customer success manager,  customer experience...   \n",
       "1246  employment advisor   fixed term contract  jets...   \n",
       "1247                                     guest speaker    \n",
       "1248                           multi skilled operative    \n",
       "1249                                  general operative   \n",
       "\n",
       "                             Company_clean  \n",
       "0                                 flox ltd  \n",
       "1                       cancer research uk  \n",
       "2                       austin consultants  \n",
       "3                                  harnham  \n",
       "4                                    nesta  \n",
       "...                                    ...  \n",
       "1245    the purely recruitment company ltd  \n",
       "1246                     activate learning  \n",
       "1247                 oxford summer courses  \n",
       "1248             grand union housing group  \n",
       "1249  the best connection employment group  \n",
       "\n",
       "[1250 rows x 6 columns]"
      ]
     },
     "execution_count": 3,
     "metadata": {},
     "output_type": "execute_result"
    }
   ],
   "source": [
    "df_cleaned"
   ]
  },
  {
   "cell_type": "code",
   "execution_count": 4,
   "metadata": {},
   "outputs": [
    {
     "data": {
      "text/plain": [
       "Birmingham    0.1080\n",
       "London        0.0984\n",
       "Manchester    0.0968\n",
       "Sheffield     0.0936\n",
       "Cambridge     0.0768\n",
       "               ...  \n",
       "Belper        0.0008\n",
       "Upper         0.0008\n",
       "Coleshill     0.0008\n",
       "Harefield     0.0008\n",
       "Bracknell     0.0008\n",
       "Name: Location, Length: 205, dtype: float64"
      ]
     },
     "execution_count": 4,
     "metadata": {},
     "output_type": "execute_result"
    }
   ],
   "source": [
    "pd.Series(df_cleaned['Location'].value_counts(normalize=True))"
   ]
  },
  {
   "cell_type": "markdown",
   "metadata": {},
   "source": [
    "# Modelling location"
   ]
  },
  {
   "cell_type": "markdown",
   "metadata": {},
   "source": [
    "### Setting X, y"
   ]
  },
  {
   "cell_type": "code",
   "execution_count": 5,
   "metadata": {},
   "outputs": [],
   "source": [
    "#set X and target\n",
    "X=df_cleaned[['Location']]\n",
    "y=df_cleaned['High or low (50%)']"
   ]
  },
  {
   "cell_type": "code",
   "execution_count": 6,
   "metadata": {},
   "outputs": [],
   "source": [
    "#dummification of location feature\n",
    "X=pd.get_dummies(X, drop_first = True)"
   ]
  },
  {
   "cell_type": "code",
   "execution_count": 7,
   "metadata": {},
   "outputs": [
    {
     "name": "stdout",
     "output_type": "stream",
     "text": [
      "(1250, 204)\n",
      "(1250,)\n"
     ]
    }
   ],
   "source": [
    "print(X.shape)\n",
    "print(y.shape)"
   ]
  },
  {
   "cell_type": "markdown",
   "metadata": {},
   "source": [
    "### Train/test split"
   ]
  },
  {
   "cell_type": "code",
   "execution_count": 8,
   "metadata": {},
   "outputs": [],
   "source": [
    "#train, test split\n",
    "from sklearn.model_selection import train_test_split\n",
    "\n",
    "X_train, X_test, y_train, y_test = train_test_split(X, y, test_size=0.2, random_state=1)"
   ]
  },
  {
   "cell_type": "code",
   "execution_count": 9,
   "metadata": {
    "scrolled": true
   },
   "outputs": [
    {
     "name": "stdout",
     "output_type": "stream",
     "text": [
      "(1000, 204)\n",
      "(250, 204)\n",
      "(1000,)\n",
      "(250,)\n"
     ]
    }
   ],
   "source": [
    "print(X_train.shape)\n",
    "print(X_test.shape)\n",
    "print(y_train.shape)\n",
    "print(y_test.shape)\n"
   ]
  },
  {
   "cell_type": "markdown",
   "metadata": {},
   "source": [
    "### Apply count vectoriser"
   ]
  },
  {
   "cell_type": "code",
   "execution_count": 10,
   "metadata": {},
   "outputs": [],
   "source": [
    "from sklearn.linear_model import LogisticRegression\n",
    "from sklearn.feature_extraction.text import CountVectorizer, TfidfVectorizer\n",
    "from sklearn.pipeline import make_pipeline\n",
    "from sklearn.model_selection import cross_val_score"
   ]
  },
  {
   "cell_type": "code",
   "execution_count": 11,
   "metadata": {},
   "outputs": [],
   "source": [
    "from sklearn.feature_extraction.text import CountVectorizer\n",
    "\n",
    "cvec = CountVectorizer(stop_words='english')\n",
    "\n",
    "cvec.fit(df_cleaned['Title clean'])\n",
    "\n",
    "cvec_transf = cvec.transform(df_cleaned['Title clean'])\n",
    "\n"
   ]
  },
  {
   "cell_type": "code",
   "execution_count": 12,
   "metadata": {},
   "outputs": [],
   "source": [
    "sparse_array = cvec_transf.toarray()\n",
    "df=pd.DataFrame(sparse_array, columns=cvec.get_feature_names())"
   ]
  },
  {
   "cell_type": "code",
   "execution_count": 13,
   "metadata": {},
   "outputs": [],
   "source": [
    "title_vec = df.transpose().sort_values(0, ascending=False).transpose()"
   ]
  },
  {
   "cell_type": "code",
   "execution_count": 14,
   "metadata": {},
   "outputs": [
    {
     "data": {
      "text/plain": [
       "(1250, 1143)"
      ]
     },
     "execution_count": 14,
     "metadata": {},
     "output_type": "execute_result"
    }
   ],
   "source": [
    "title_vec.shape"
   ]
  },
  {
   "cell_type": "code",
   "execution_count": 15,
   "metadata": {},
   "outputs": [],
   "source": [
    "final_df = pd.concat([X_train, title_vec], axis=1)"
   ]
  },
  {
   "cell_type": "markdown",
   "metadata": {},
   "source": [
    "# Logistic regression gridsearch for location"
   ]
  },
  {
   "cell_type": "markdown",
   "metadata": {},
   "source": [
    "### Executing model"
   ]
  },
  {
   "cell_type": "code",
   "execution_count": 16,
   "metadata": {
    "scrolled": true
   },
   "outputs": [
    {
     "name": "stdout",
     "output_type": "stream",
     "text": [
      "Fitting 5 folds for each of 40 candidates, totalling 200 fits\n"
     ]
    },
    {
     "name": "stderr",
     "output_type": "stream",
     "text": [
      "[Parallel(n_jobs=1)]: Using backend SequentialBackend with 1 concurrent workers.\n",
      "/Users/harmeetgill/anaconda3/lib/python3.7/site-packages/sklearn/svm/_base.py:947: ConvergenceWarning: Liblinear failed to converge, increase the number of iterations.\n",
      "  \"the number of iterations.\", ConvergenceWarning)\n",
      "[Parallel(n_jobs=1)]: Done 200 out of 200 | elapsed:    1.7s finished\n"
     ]
    },
    {
     "data": {
      "text/plain": [
       "GridSearchCV(cv=5, error_score=nan,\n",
       "             estimator=LogisticRegression(C=1.0, class_weight=None, dual=False,\n",
       "                                          fit_intercept=True,\n",
       "                                          intercept_scaling=1, l1_ratio=None,\n",
       "                                          max_iter=100, multi_class='auto',\n",
       "                                          n_jobs=None, penalty='l2',\n",
       "                                          random_state=1, solver='lbfgs',\n",
       "                                          tol=0.0001, verbose=0,\n",
       "                                          warm_start=False),\n",
       "             iid='deprecated', n_jobs=None,\n",
       "             param_grid={'C': array([1.00000000e-04, 7.74263683e-04, 5.99484250e-03, 4.64158883e-02,\n",
       "       3.59381366e-01, 2.78255940e+00, 2.15443469e+01, 1.66810054e+02,\n",
       "       1.29154967e+03, 1.00000000e+04]),\n",
       "                         'fit_intercept': [True, False],\n",
       "                         'penalty': ['l1', 'l2'], 'solver': ['liblinear']},\n",
       "             pre_dispatch='2*n_jobs', refit=True, return_train_score=False,\n",
       "             scoring='accuracy', verbose=1)"
      ]
     },
     "execution_count": 16,
     "metadata": {},
     "output_type": "execute_result"
    }
   ],
   "source": [
    "model = LogisticRegression(random_state=1)\n",
    "\n",
    "from sklearn.model_selection import GridSearchCV\n",
    "\n",
    "params = {'C': np.logspace(-4, 4, 10),\n",
    "          'penalty': ['l1', 'l2'],\n",
    "          'solver' : ['liblinear'],\n",
    "          'fit_intercept' : [True, False]}\n",
    "\n",
    "gs = GridSearchCV(estimator=model,\n",
    "                  param_grid=params,\n",
    "                  cv=5,\n",
    "                  scoring='accuracy',\n",
    "                  verbose=1)\n",
    "\n",
    "gs.fit(X_train, y_train)"
   ]
  },
  {
   "cell_type": "markdown",
   "metadata": {},
   "source": [
    "### Saving logistic regression"
   ]
  },
  {
   "cell_type": "code",
   "execution_count": 17,
   "metadata": {},
   "outputs": [],
   "source": [
    "#save model as joblib file\n",
    "import joblib\n",
    "\n",
    "# joblib.dump(gs, 'log_reg_gs_location.jlib')"
   ]
  },
  {
   "cell_type": "code",
   "execution_count": 18,
   "metadata": {},
   "outputs": [],
   "source": [
    "#load file\n",
    "gs=joblib.load('log_reg_gs_location.jlib')"
   ]
  },
  {
   "cell_type": "markdown",
   "metadata": {},
   "source": [
    "### Evaluating logistic regression"
   ]
  },
  {
   "cell_type": "code",
   "execution_count": 19,
   "metadata": {
    "scrolled": true
   },
   "outputs": [
    {
     "name": "stdout",
     "output_type": "stream",
     "text": [
      "Best Parameters:\n",
      "{'C': 0.3593813663804626, 'fit_intercept': True, 'penalty': 'l2', 'solver': 'liblinear'}\n",
      "Best estimator C:\n",
      "0.3593813663804626\n",
      "Best estimator mean cross validated training score:\n",
      "0.5980000000000001\n",
      "Best estimator score on the full training set:\n",
      "0.638\n",
      "Best estimator score on the test set:\n",
      "0.64\n",
      "Best estimator coefficients:\n",
      "[[ 0.         -0.13647659  0.         -0.13647659 -0.35546276  0.\n",
      "  -0.13647659  0.56658019  0.05359376 -0.13647659 -0.25345163 -0.13647659\n",
      "  -0.09888641  0.05359376  0.51325081  0.19403563 -0.44572619 -0.29131707\n",
      "  -0.13647659  0.         -0.35546276 -0.13647659  0.19403563 -0.13647659\n",
      "   0.05359376 -0.13647659 -0.13647659 -0.09843934 -0.13647659 -0.13647659\n",
      "  -0.13647659 -0.35546276  0.         -0.13647659  0.71172284  0.19403563\n",
      "   0.19403563 -0.13647659  0.19403563 -0.25345163  0.         -0.47898852\n",
      "  -0.0676676  -0.13647659  0.19403563  0.19403563  0.          0.27976555\n",
      "   0.          0.19403563  0.19403563  0.35857677 -0.13647659  0.19403563\n",
      "   0.          0.          0.65606228 -0.06105096 -0.13647659 -0.13647659\n",
      "  -0.13647659  0.          0.21667203  0.05359376  0.4998538   0.19403563\n",
      "   0.19403563 -0.25345163  0.         -0.13647659 -0.13647659  0.19403563\n",
      "   0.05359376 -0.13647659  0.4998538   0.         -0.13647659 -0.25345163\n",
      "  -0.13647659  0.05359376 -0.13647659  0.19403563  0.19403563 -0.13647659\n",
      "   0.19403563  0.35798271 -0.25345163  0.62277821 -0.13647659  0.19403563\n",
      "   0.05359376 -0.26820491 -0.13647659 -0.13647659 -0.13647659 -0.13647659\n",
      "  -0.25345163 -0.13647659 -0.13647659  0.19403563  0.         -0.13647659\n",
      "   0.19403563 -0.13647659  0.          0.19403563  0.         -0.13647659\n",
      "   1.14009937 -0.13647659  0.05359376  0.05359376  0.05359376  0.26036263\n",
      "   0.         -0.13647659 -0.13647659 -0.13647659 -0.13647659 -0.13647659\n",
      "  -0.35546276  0.19403563 -0.5997088   0.35857677 -0.13647659 -0.25345163\n",
      "  -0.17391497 -0.13647659  0.25850631  0.35857677 -0.13647659  0.\n",
      "  -0.13647659 -0.13647659 -0.13647659  0.19403563  0.19403563  0.21290923\n",
      "   0.19403563  0.          0.19403563  0.19403563 -0.13647659 -0.13647659\n",
      "   0.02223925 -0.13647659 -0.13647659 -0.35546276  0.25761971  0.\n",
      "   0.1846874  -0.13647659  0.19403563 -0.25345163  0.35798271  0.4998538\n",
      "  -0.13647659  0.19403563  0.          0.         -0.13647659  0.05799875\n",
      "  -0.13647659  0.19403563 -0.13647659  0.19403563  0.21667203 -0.13647659\n",
      "   0.19403563 -0.13647659 -0.13647659 -0.13647659  0.19403563  0.\n",
      "  -0.13647659 -0.13647659 -0.13647659  0.21667203  0.05359376 -0.0676676\n",
      "   0.         -0.13647659  0.21667203 -0.44572619  0.4998538  -0.35546276\n",
      "  -0.13647659 -0.44572619 -0.13647659 -0.35546276 -0.13647659  0.54642411\n",
      "   0.19403563  0.05359376 -0.13647659  0.         -0.13647659  0.19403563\n",
      "  -0.13647659 -0.44572619 -0.25345163 -0.0676676   0.19403563  0.        ]]\n"
     ]
    }
   ],
   "source": [
    "# extract the grid search results\n",
    "print('Best Parameters:')\n",
    "print(gs.best_params_)\n",
    "print('Best estimator C:')\n",
    "print(gs.best_estimator_.C)\n",
    "print('Best estimator mean cross validated training score:')\n",
    "print(gs.best_score_)\n",
    "print('Best estimator score on the full training set:')\n",
    "print(gs.score(X_train, y_train))\n",
    "print('Best estimator score on the test set:')\n",
    "print(gs.score(X_test, y_test))\n",
    "print('Best estimator coefficients:')\n",
    "print(gs.best_estimator_.coef_)"
   ]
  },
  {
   "cell_type": "code",
   "execution_count": 20,
   "metadata": {
    "scrolled": true
   },
   "outputs": [
    {
     "data": {
      "image/png": "[encoded data removed]",
      "text/plain": [
       "<Figure size 432x432 with 1 Axes>"
      ]
     },
     "metadata": {
      "needs_background": "light"
     },
     "output_type": "display_data"
    }
   ],
   "source": [
    "#plot coefficients\n",
    "coefs_lr = pd.DataFrame({\n",
    "    'coef': gs.best_estimator_.coef_[0],\n",
    "    'variable': X.columns,\n",
    "    'abscoef': np.abs(gs.best_estimator_.coef_[0])\n",
    "})\n",
    "\n",
    "top_twenty = coefs_lr.sort_values('abscoef', ascending=False).head(20)\n",
    "top_twenty.plot(kind='barh', x='variable', y='coef',\n",
    "                       figsize=(6, 6))\n",
    "plt.show()"
   ]
  },
  {
   "cell_type": "code",
   "execution_count": 21,
   "metadata": {
    "scrolled": true
   },
   "outputs": [
    {
     "data": {
      "image/png": "[encoded data removed]",
      "text/plain": [
       "<Figure size 432x288 with 2 Axes>"
      ]
     },
     "metadata": {
      "needs_background": "light"
     },
     "output_type": "display_data"
    }
   ],
   "source": [
    "from sklearn.metrics import  plot_confusion_matrix, classification_report\n",
    "plot_confusion_matrix(gs, X_test, y_test, cmap=plt.cm.Blues);"
   ]
  },
  {
   "cell_type": "code",
   "execution_count": 22,
   "metadata": {},
   "outputs": [
    {
     "name": "stdout",
     "output_type": "stream",
     "text": [
      "              precision    recall  f1-score   support\n",
      "\n",
      "           0       0.62      0.85      0.72       535\n",
      "           1       0.70      0.39      0.50       465\n",
      "\n",
      "    accuracy                           0.64      1000\n",
      "   macro avg       0.66      0.62      0.61      1000\n",
      "weighted avg       0.65      0.64      0.62      1000\n",
      "\n"
     ]
    }
   ],
   "source": [
    "predictions_train = gs.predict(X_train)\n",
    "predictions_test = gs.predict(X_test)\n",
    "print(classification_report(y_train, predictions_train))"
   ]
  },
  {
   "cell_type": "markdown",
   "metadata": {},
   "source": [
    "# KNN gridsearch for location"
   ]
  },
  {
   "cell_type": "markdown",
   "metadata": {},
   "source": [
    "### Executing model"
   ]
  },
  {
   "cell_type": "code",
   "execution_count": 23,
   "metadata": {
    "scrolled": true
   },
   "outputs": [
    {
     "name": "stdout",
     "output_type": "stream",
     "text": [
      "Fitting 5 folds for each of 28 candidates, totalling 140 fits\n"
     ]
    },
    {
     "name": "stderr",
     "output_type": "stream",
     "text": [
      "[Parallel(n_jobs=1)]: Using backend SequentialBackend with 1 concurrent workers.\n",
      "[Parallel(n_jobs=1)]: Done 140 out of 140 | elapsed:    6.6s finished\n"
     ]
    },
    {
     "data": {
      "text/plain": [
       "GridSearchCV(cv=5, error_score=nan,\n",
       "             estimator=KNeighborsClassifier(algorithm='auto', leaf_size=30,\n",
       "                                            metric='minkowski',\n",
       "                                            metric_params=None, n_jobs=None,\n",
       "                                            n_neighbors=5, p=2,\n",
       "                                            weights='uniform'),\n",
       "             iid='deprecated', n_jobs=None,\n",
       "             param_grid={'metric': ['euclidean', 'manhattan'],\n",
       "                         'n_neighbors': [5, 9, 15, 25, 40, 50, 60],\n",
       "                         'weights': ['uniform', 'distance']},\n",
       "             pre_dispatch='2*n_jobs', refit=True, return_train_score=False,\n",
       "             scoring=None, verbose=1)"
      ]
     },
     "execution_count": 23,
     "metadata": {},
     "output_type": "execute_result"
    }
   ],
   "source": [
    "#KNN FOR LOCATION ONLY\n",
    "\n",
    "from sklearn.neighbors import KNeighborsClassifier\n",
    "\n",
    "from sklearn.model_selection import GridSearchCV\n",
    "\n",
    "\n",
    "knn_params = {\n",
    "    'n_neighbors': [5, 9, 15, 25, 40, 50, 60],\n",
    "    'weights': ['uniform', 'distance'],\n",
    "    'metric': ['euclidean', 'manhattan']}\n",
    "knn = KNeighborsClassifier()\n",
    "knn_gs = GridSearchCV(knn, knn_params, cv=5, verbose=1)\n",
    "\n",
    "knn_gs.fit(X_train, y_train)"
   ]
  },
  {
   "cell_type": "markdown",
   "metadata": {},
   "source": [
    "### Saving KNN model"
   ]
  },
  {
   "cell_type": "code",
   "execution_count": 24,
   "metadata": {},
   "outputs": [],
   "source": [
    "#save model as joblib file\n",
    "import joblib\n",
    "\n",
    "# joblib.dump(knn_gs, 'knn_gs.jlib')"
   ]
  },
  {
   "cell_type": "code",
   "execution_count": 25,
   "metadata": {},
   "outputs": [],
   "source": [
    "#load KNN model\n",
    "knn_gs=joblib.load('knn_gs.jlib')"
   ]
  },
  {
   "cell_type": "markdown",
   "metadata": {},
   "source": [
    "### KNN evaluation metrics"
   ]
  },
  {
   "cell_type": "code",
   "execution_count": 26,
   "metadata": {},
   "outputs": [
    {
     "name": "stdout",
     "output_type": "stream",
     "text": [
      "Best Parameters:\n",
      "{'metric': 'euclidean', 'n_neighbors': 40, 'weights': 'distance'}\n",
      "Best estimator mean cross validated training score:\n",
      "0.594\n",
      "Best estimator score on the full training set:\n",
      "0.679\n",
      "Best estimator score on the test set:\n",
      "0.608\n"
     ]
    }
   ],
   "source": [
    "# extract the grid search results\n",
    "\n",
    "print('Best Parameters:')\n",
    "print(knn_gs.best_params_)\n",
    "print('Best estimator mean cross validated training score:')\n",
    "print(knn_gs.best_score_)\n",
    "print('Best estimator score on the full training set:')\n",
    "print(knn_gs.score(X_train, y_train))\n",
    "print('Best estimator score on the test set:')\n",
    "print(knn_gs.score(X_test, y_test))"
   ]
  },
  {
   "cell_type": "code",
   "execution_count": 27,
   "metadata": {},
   "outputs": [
    {
     "data": {
      "image/png": "[encoded data removed]",
      "text/plain": [
       "<Figure size 432x288 with 2 Axes>"
      ]
     },
     "metadata": {
      "needs_background": "light"
     },
     "output_type": "display_data"
    }
   ],
   "source": [
    "from sklearn.metrics import  plot_confusion_matrix\n",
    "plot_confusion_matrix(knn_gs, X_test, y_test, cmap=plt.cm.Blues);"
   ]
  },
  {
   "cell_type": "code",
   "execution_count": 28,
   "metadata": {},
   "outputs": [
    {
     "name": "stdout",
     "output_type": "stream",
     "text": [
      "              precision    recall  f1-score   support\n",
      "\n",
      "           0       0.66      0.83      0.73       535\n",
      "           1       0.72      0.51      0.60       465\n",
      "\n",
      "    accuracy                           0.68      1000\n",
      "   macro avg       0.69      0.67      0.66      1000\n",
      "weighted avg       0.69      0.68      0.67      1000\n",
      "\n"
     ]
    }
   ],
   "source": [
    "predictions_train = knn_gs.predict(X_train)\n",
    "predictions_test = knn_gs.predict(X_test)\n",
    "print(classification_report(y_train, predictions_train))"
   ]
  },
  {
   "cell_type": "markdown",
   "metadata": {},
   "source": [
    "# Random Forest"
   ]
  },
  {
   "cell_type": "markdown",
   "metadata": {},
   "source": [
    "### Executing and evaluating Random Forest"
   ]
  },
  {
   "cell_type": "code",
   "execution_count": 29,
   "metadata": {
    "scrolled": true
   },
   "outputs": [
    {
     "name": "stdout",
     "output_type": "stream",
     "text": [
      "0.576\n",
      "train score: 0.595\n",
      "test score: 0.644\n",
      "n_estimator:  100\n",
      "max_depth:  5\n",
      "---------------\n",
      "0.594\n",
      "train score: 0.627\n",
      "test score: 0.628\n",
      "n_estimator:  100\n",
      "max_depth:  10\n",
      "---------------\n",
      "0.595\n",
      "train score: 0.636\n",
      "test score: 0.632\n",
      "n_estimator:  100\n",
      "max_depth:  15\n",
      "---------------\n",
      "0.589\n",
      "train score: 0.642\n",
      "test score: 0.636\n",
      "n_estimator:  100\n",
      "max_depth:  20\n",
      "---------------\n",
      "0.575\n",
      "train score: 0.598\n",
      "test score: 0.644\n",
      "n_estimator:  110\n",
      "max_depth:  5\n",
      "---------------\n",
      "0.593\n",
      "train score: 0.627\n",
      "test score: 0.628\n",
      "n_estimator:  110\n",
      "max_depth:  10\n",
      "---------------\n",
      "0.595\n",
      "train score: 0.636\n",
      "test score: 0.628\n",
      "n_estimator:  110\n",
      "max_depth:  15\n",
      "---------------\n",
      "0.592\n",
      "train score: 0.643\n",
      "test score: 0.632\n",
      "n_estimator:  110\n",
      "max_depth:  20\n",
      "---------------\n",
      "0.576\n",
      "train score: 0.596\n",
      "test score: 0.644\n",
      "n_estimator:  120\n",
      "max_depth:  5\n",
      "---------------\n",
      "0.594\n",
      "train score: 0.623\n",
      "test score: 0.632\n",
      "n_estimator:  120\n",
      "max_depth:  10\n",
      "---------------\n",
      "0.593\n",
      "train score: 0.635\n",
      "test score: 0.632\n",
      "n_estimator:  120\n",
      "max_depth:  15\n",
      "---------------\n",
      "0.591\n",
      "train score: 0.643\n",
      "test score: 0.636\n",
      "n_estimator:  120\n",
      "max_depth:  20\n",
      "---------------\n",
      "0.576\n",
      "train score: 0.596\n",
      "test score: 0.644\n",
      "n_estimator:  130\n",
      "max_depth:  5\n",
      "---------------\n",
      "0.593\n",
      "train score: 0.629\n",
      "test score: 0.628\n",
      "n_estimator:  130\n",
      "max_depth:  10\n",
      "---------------\n",
      "0.595\n",
      "train score: 0.636\n",
      "test score: 0.632\n",
      "n_estimator:  130\n",
      "max_depth:  15\n",
      "---------------\n",
      "0.589\n",
      "train score: 0.642\n",
      "test score: 0.636\n",
      "n_estimator:  130\n",
      "max_depth:  20\n",
      "---------------\n",
      "0.58\n",
      "train score: 0.598\n",
      "test score: 0.644\n",
      "n_estimator:  140\n",
      "max_depth:  5\n",
      "---------------\n",
      "0.594\n",
      "train score: 0.625\n",
      "test score: 0.632\n",
      "n_estimator:  140\n",
      "max_depth:  10\n",
      "---------------\n",
      "0.596\n",
      "train score: 0.636\n",
      "test score: 0.632\n",
      "n_estimator:  140\n",
      "max_depth:  15\n",
      "---------------\n",
      "0.596\n",
      "train score: 0.643\n",
      "test score: 0.636\n",
      "n_estimator:  140\n",
      "max_depth:  20\n",
      "---------------\n",
      "0.58\n",
      "train score: 0.596\n",
      "test score: 0.644\n",
      "n_estimator:  150\n",
      "max_depth:  5\n",
      "---------------\n",
      "0.593\n",
      "train score: 0.625\n",
      "test score: 0.632\n",
      "n_estimator:  150\n",
      "max_depth:  10\n",
      "---------------\n",
      "0.595\n",
      "train score: 0.636\n",
      "test score: 0.632\n",
      "n_estimator:  150\n",
      "max_depth:  15\n",
      "---------------\n",
      "0.5980000000000001\n",
      "train score: 0.642\n",
      "test score: 0.636\n",
      "n_estimator:  150\n",
      "max_depth:  20\n",
      "---------------\n",
      "0.576\n",
      "train score: 0.596\n",
      "test score: 0.644\n",
      "n_estimator:  160\n",
      "max_depth:  5\n",
      "---------------\n",
      "0.593\n",
      "train score: 0.629\n",
      "test score: 0.628\n",
      "n_estimator:  160\n",
      "max_depth:  10\n",
      "---------------\n",
      "0.596\n",
      "train score: 0.635\n",
      "test score: 0.632\n",
      "n_estimator:  160\n",
      "max_depth:  15\n",
      "---------------\n",
      "0.595\n",
      "train score: 0.642\n",
      "test score: 0.636\n",
      "n_estimator:  160\n",
      "max_depth:  20\n",
      "---------------\n",
      "0.5780000000000001\n",
      "train score: 0.596\n",
      "test score: 0.644\n",
      "n_estimator:  170\n",
      "max_depth:  5\n",
      "---------------\n",
      "0.592\n",
      "train score: 0.625\n",
      "test score: 0.632\n",
      "n_estimator:  170\n",
      "max_depth:  10\n",
      "---------------\n",
      "0.5960000000000001\n",
      "train score: 0.639\n",
      "test score: 0.636\n",
      "n_estimator:  170\n",
      "max_depth:  15\n",
      "---------------\n",
      "0.599\n",
      "train score: 0.642\n",
      "test score: 0.636\n",
      "n_estimator:  170\n",
      "max_depth:  20\n",
      "---------------\n",
      "0.5780000000000001\n",
      "train score: 0.596\n",
      "test score: 0.644\n",
      "n_estimator:  180\n",
      "max_depth:  5\n",
      "---------------\n",
      "0.592\n",
      "train score: 0.627\n",
      "test score: 0.628\n",
      "n_estimator:  180\n",
      "max_depth:  10\n",
      "---------------\n",
      "0.595\n",
      "train score: 0.639\n",
      "test score: 0.636\n",
      "n_estimator:  180\n",
      "max_depth:  15\n",
      "---------------\n",
      "0.5969999999999999\n",
      "train score: 0.643\n",
      "test score: 0.636\n",
      "n_estimator:  180\n",
      "max_depth:  20\n",
      "---------------\n",
      "0.5780000000000001\n",
      "train score: 0.596\n",
      "test score: 0.644\n",
      "n_estimator:  190\n",
      "max_depth:  5\n",
      "---------------\n",
      "0.592\n",
      "train score: 0.627\n",
      "test score: 0.628\n",
      "n_estimator:  190\n",
      "max_depth:  10\n",
      "---------------\n",
      "0.594\n",
      "train score: 0.639\n",
      "test score: 0.636\n",
      "n_estimator:  190\n",
      "max_depth:  15\n",
      "---------------\n",
      "0.6\n",
      "train score: 0.64\n",
      "test score: 0.636\n",
      "n_estimator:  190\n",
      "max_depth:  20\n",
      "---------------\n",
      "0.58\n",
      "train score: 0.596\n",
      "test score: 0.644\n",
      "n_estimator:  200\n",
      "max_depth:  5\n",
      "---------------\n",
      "0.592\n",
      "train score: 0.627\n",
      "test score: 0.628\n",
      "n_estimator:  200\n",
      "max_depth:  10\n",
      "---------------\n",
      "0.591\n",
      "train score: 0.639\n",
      "test score: 0.636\n",
      "n_estimator:  200\n",
      "max_depth:  15\n",
      "---------------\n",
      "0.6010000000000001\n",
      "train score: 0.64\n",
      "test score: 0.636\n",
      "n_estimator:  200\n",
      "max_depth:  20\n",
      "---------------\n"
     ]
    }
   ],
   "source": [
    "from sklearn.ensemble import RandomForestClassifier\n",
    "\n",
    "for i in range(100,201,10):\n",
    "    for x in range(5,25,5):\n",
    "        model = RandomForestClassifier(n_estimators=i,\n",
    "                                      random_state=1, max_depth = x)\n",
    "\n",
    "        model.fit(X_train, y_train)\n",
    "        print(cross_val_score(model, X_train, y_train, cv=5).mean())\n",
    "        print('train score:',model.score(X_train, y_train))\n",
    "        print('test score:',model.score(X_test, y_test))\n",
    "        print('n_estimator: ',  i)\n",
    "        print('max_depth: ', x)\n",
    "        print('---------------')"
   ]
  },
  {
   "cell_type": "code",
   "execution_count": 30,
   "metadata": {},
   "outputs": [
    {
     "data": {
      "image/png": "[encoded data removed]",
      "text/plain": [
       "<Figure size 432x288 with 2 Axes>"
      ]
     },
     "metadata": {
      "needs_background": "light"
     },
     "output_type": "display_data"
    }
   ],
   "source": [
    "from sklearn.metrics import  plot_confusion_matrix\n",
    "plot_confusion_matrix(model, X_test, y_test, cmap=plt.cm.Blues);"
   ]
  },
  {
   "cell_type": "code",
   "execution_count": 31,
   "metadata": {},
   "outputs": [
    {
     "name": "stdout",
     "output_type": "stream",
     "text": [
      "              precision    recall  f1-score   support\n",
      "\n",
      "           0       0.62      0.85      0.72       535\n",
      "           1       0.70      0.40      0.51       465\n",
      "\n",
      "    accuracy                           0.64      1000\n",
      "   macro avg       0.66      0.62      0.61      1000\n",
      "weighted avg       0.66      0.64      0.62      1000\n",
      "\n"
     ]
    }
   ],
   "source": [
    "predictions_train = model.predict(X_train)\n",
    "predictions_test = model.predict(X_test)\n",
    "print(classification_report(y_train, predictions_train))"
   ]
  },
  {
   "cell_type": "code",
   "execution_count": 33,
   "metadata": {},
   "outputs": [
    {
     "data": {
      "image/png": "[encoded data removed]",
      "text/plain": [
       "<Figure size 720x576 with 1 Axes>"
      ]
     },
     "metadata": {
      "needs_background": "light"
     },
     "output_type": "display_data"
    }
   ],
   "source": [
    "import seaborn as sns\n",
    "def plot_feature_importance(importance,names,model_type):\n",
    "\n",
    "    #Create arrays from feature importance and feature names\n",
    "    feature_importance = np.array(importance)\n",
    "    feature_names = np.array(names)\n",
    "\n",
    "    #Create a DataFrame using a Dictionary\n",
    "    data={'feature_names':feature_names,'feature_importance':feature_importance}\n",
    "    fi_df = pd.DataFrame(data).head(25)\n",
    "\n",
    "    #Sort the DataFrame in order decreasing feature importance\n",
    "    fi_df.sort_values(by=['feature_importance'], ascending=False,inplace=True)\n",
    "\n",
    "    #Define size of bar plot\n",
    "    plt.figure(figsize=(10,8))\n",
    "    #Plot Searborn bar chart\n",
    "    sns.barplot(x=fi_df['feature_importance'], y=fi_df['feature_names'],palette='Blues_r')\n",
    "    #Add chart labels\n",
    "    plt.title(model_type + 'FEATURE IMPORTANCE')\n",
    "    plt.xlabel('FEATURE IMPORTANCE')\n",
    "    plt.ylabel('FEATURE NAMES')\n",
    "\n",
    "plot_feature_importance(model.feature_importances_, X_train.columns, 'RANDOM FOREST')"
   ]
  },
  {
   "cell_type": "markdown",
   "metadata": {},
   "source": [
    "# Logistic regression gridsearch for location and title"
   ]
  },
  {
   "cell_type": "markdown",
   "metadata": {},
   "source": [
    "### Setting parameters"
   ]
  },
  {
   "cell_type": "code",
   "execution_count": 34,
   "metadata": {},
   "outputs": [],
   "source": [
    "X=df_cleaned[['Location', 'Title clean']]\n",
    "y=df_cleaned['High or low (50%)']\n",
    "\n",
    "X=pd.get_dummies(X, drop_first = True)\n",
    "\n",
    "X_train, X_test, y_train, y_test = train_test_split(X, y, test_size=0.2, random_state=1)"
   ]
  },
  {
   "cell_type": "code",
   "execution_count": 35,
   "metadata": {},
   "outputs": [
    {
     "name": "stdout",
     "output_type": "stream",
     "text": [
      "(1000, 1352)\n",
      "(250, 1352)\n",
      "(1000,)\n",
      "(250,)\n"
     ]
    }
   ],
   "source": [
    "print(X_train.shape)\n",
    "print(X_test.shape)\n",
    "print(y_train.shape)\n",
    "print(y_test.shape)"
   ]
  },
  {
   "cell_type": "markdown",
   "metadata": {},
   "source": [
    "### Executing logistic regression model"
   ]
  },
  {
   "cell_type": "code",
   "execution_count": 36,
   "metadata": {
    "scrolled": true
   },
   "outputs": [
    {
     "name": "stdout",
     "output_type": "stream",
     "text": [
      "Fitting 5 folds for each of 40 candidates, totalling 200 fits\n"
     ]
    },
    {
     "name": "stderr",
     "output_type": "stream",
     "text": [
      "[Parallel(n_jobs=1)]: Using backend SequentialBackend with 1 concurrent workers.\n",
      "[Parallel(n_jobs=1)]: Done 200 out of 200 | elapsed:    3.0s finished\n"
     ]
    },
    {
     "data": {
      "text/plain": [
       "GridSearchCV(cv=5, error_score=nan,\n",
       "             estimator=LogisticRegression(C=1.0, class_weight=None, dual=False,\n",
       "                                          fit_intercept=True,\n",
       "                                          intercept_scaling=1, l1_ratio=None,\n",
       "                                          max_iter=100, multi_class='auto',\n",
       "                                          n_jobs=None, penalty='l2',\n",
       "                                          random_state=1, solver='lbfgs',\n",
       "                                          tol=0.0001, verbose=0,\n",
       "                                          warm_start=False),\n",
       "             iid='deprecated', n_jobs=None,\n",
       "             param_grid={'C': array([1.00000000e-04, 7.74263683e-04, 5.99484250e-03, 4.64158883e-02,\n",
       "       3.59381366e-01, 2.78255940e+00, 2.15443469e+01, 1.66810054e+02,\n",
       "       1.29154967e+03, 1.00000000e+04]),\n",
       "                         'fit_intercept': [True, False],\n",
       "                         'penalty': ['l1', 'l2'], 'solver': ['liblinear']},\n",
       "             pre_dispatch='2*n_jobs', refit=True, return_train_score=False,\n",
       "             scoring='accuracy', verbose=1)"
      ]
     },
     "execution_count": 36,
     "metadata": {},
     "output_type": "execute_result"
    }
   ],
   "source": [
    "model = LogisticRegression(random_state=1)\n",
    "\n",
    "from sklearn.model_selection import GridSearchCV\n",
    "\n",
    "params = {'C': np.logspace(-4, 4, 10),\n",
    "          'penalty': ['l1', 'l2'],\n",
    "          'solver' : ['liblinear'],\n",
    "          'fit_intercept' : [True, False]}\n",
    "\n",
    "gs = GridSearchCV(estimator=model,\n",
    "                  param_grid=params,\n",
    "                  cv=5,\n",
    "                  scoring='accuracy',\n",
    "                  verbose=1)\n",
    "\n",
    "gs.fit(X_train, y_train)"
   ]
  },
  {
   "cell_type": "markdown",
   "metadata": {},
   "source": [
    "### Saving logistic regression model"
   ]
  },
  {
   "cell_type": "code",
   "execution_count": 37,
   "metadata": {},
   "outputs": [],
   "source": [
    "#save model as joblib file\n",
    "import joblib\n",
    "\n",
    "# joblib.dump(gs, 'lr_gs_loc_salary.jlib')"
   ]
  },
  {
   "cell_type": "code",
   "execution_count": 38,
   "metadata": {},
   "outputs": [],
   "source": [
    "#load KNN model\n",
    "# lr_gs_loc_salary=joblib.load('lr_gs_loc_salary.jlib')"
   ]
  },
  {
   "cell_type": "markdown",
   "metadata": {},
   "source": [
    "### Evaluating logistic regression"
   ]
  },
  {
   "cell_type": "code",
   "execution_count": 39,
   "metadata": {},
   "outputs": [
    {
     "name": "stdout",
     "output_type": "stream",
     "text": [
      "Best Parameters:\n",
      "{'C': 0.3593813663804626, 'fit_intercept': True, 'penalty': 'l2', 'solver': 'liblinear'}\n",
      "Best estimator C:\n",
      "0.3593813663804626\n",
      "Best estimator mean cross validated training score:\n",
      "0.615\n",
      "Best estimator score on the full training set:\n",
      "0.85\n",
      "Best estimator score on the test set:\n",
      "0.652\n",
      "Best estimator coefficients:\n",
      "[[ 0.         -0.12658839  0.         ... -0.19420901  0.\n",
      "  -0.12658839]]\n"
     ]
    }
   ],
   "source": [
    "# extract the grid search results\n",
    "print('Best Parameters:')\n",
    "print(gs.best_params_)\n",
    "print('Best estimator C:')\n",
    "print(gs.best_estimator_.C)\n",
    "print('Best estimator mean cross validated training score:')\n",
    "print(gs.best_score_)\n",
    "print('Best estimator score on the full training set:')\n",
    "print(gs.score(X_train, y_train))\n",
    "print('Best estimator score on the test set:')\n",
    "print(gs.score(X_test, y_test))\n",
    "print('Best estimator coefficients:')\n",
    "print(gs.best_estimator_.coef_)"
   ]
  },
  {
   "cell_type": "code",
   "execution_count": 40,
   "metadata": {},
   "outputs": [
    {
     "data": {
      "image/png": "[encoded data removed]",
      "text/plain": [
       "<Figure size 432x432 with 1 Axes>"
      ]
     },
     "metadata": {
      "needs_background": "light"
     },
     "output_type": "display_data"
    }
   ],
   "source": [
    "#plot coefficients\n",
    "coefs_lr = pd.DataFrame({\n",
    "    'coef': gs.best_estimator_.coef_[0],\n",
    "    'variable': X.columns,\n",
    "    'abscoef': np.abs(gs.best_estimator_.coef_[0])\n",
    "})\n",
    "\n",
    "top_twenty = coefs_lr.sort_values('abscoef', ascending=False).head(20)\n",
    "top_twenty.plot(kind='barh', x='variable', y='coef',\n",
    "                       figsize=(6, 6))\n",
    "plt.show()"
   ]
  },
  {
   "cell_type": "code",
   "execution_count": 41,
   "metadata": {},
   "outputs": [
    {
     "data": {
      "image/png": "[encoded data removed]",
      "text/plain": [
       "<Figure size 432x288 with 2 Axes>"
      ]
     },
     "metadata": {
      "needs_background": "light"
     },
     "output_type": "display_data"
    }
   ],
   "source": [
    "plot_confusion_matrix(gs, X_test, y_test, cmap=plt.cm.Blues);"
   ]
  },
  {
   "cell_type": "code",
   "execution_count": 42,
   "metadata": {},
   "outputs": [
    {
     "name": "stdout",
     "output_type": "stream",
     "text": [
      "              precision    recall  f1-score   support\n",
      "\n",
      "           0       0.84      0.89      0.86       535\n",
      "           1       0.86      0.81      0.83       465\n",
      "\n",
      "    accuracy                           0.85      1000\n",
      "   macro avg       0.85      0.85      0.85      1000\n",
      "weighted avg       0.85      0.85      0.85      1000\n",
      "\n"
     ]
    }
   ],
   "source": [
    "predictions_train = gs.predict(X_train)\n",
    "predictions_test = gs.predict(X_test)\n",
    "print(classification_report(y_train, predictions_train))"
   ]
  },
  {
   "cell_type": "markdown",
   "metadata": {},
   "source": [
    "# KNN gridsearch for location and title"
   ]
  },
  {
   "cell_type": "markdown",
   "metadata": {},
   "source": [
    "### Executing KNN"
   ]
  },
  {
   "cell_type": "code",
   "execution_count": 43,
   "metadata": {},
   "outputs": [
    {
     "name": "stdout",
     "output_type": "stream",
     "text": [
      "Fitting 5 folds for each of 28 candidates, totalling 140 fits\n"
     ]
    },
    {
     "name": "stderr",
     "output_type": "stream",
     "text": [
      "[Parallel(n_jobs=1)]: Using backend SequentialBackend with 1 concurrent workers.\n",
      "[Parallel(n_jobs=1)]: Done 140 out of 140 | elapsed:   43.0s finished\n"
     ]
    },
    {
     "data": {
      "text/plain": [
       "GridSearchCV(cv=5, error_score=nan,\n",
       "             estimator=KNeighborsClassifier(algorithm='auto', leaf_size=30,\n",
       "                                            metric='minkowski',\n",
       "                                            metric_params=None, n_jobs=None,\n",
       "                                            n_neighbors=5, p=2,\n",
       "                                            weights='uniform'),\n",
       "             iid='deprecated', n_jobs=None,\n",
       "             param_grid={'metric': ['euclidean', 'manhattan'],\n",
       "                         'n_neighbors': [5, 9, 15, 25, 40, 50, 60],\n",
       "                         'weights': ['uniform', 'distance']},\n",
       "             pre_dispatch='2*n_jobs', refit=True, return_train_score=False,\n",
       "             scoring=None, verbose=1)"
      ]
     },
     "execution_count": 43,
     "metadata": {},
     "output_type": "execute_result"
    }
   ],
   "source": [
    "from sklearn.neighbors import KNeighborsClassifier\n",
    "\n",
    "from sklearn.model_selection import GridSearchCV\n",
    "\n",
    "\n",
    "knn2_params = {\n",
    "    'n_neighbors': [5, 9, 15, 25, 40, 50, 60],\n",
    "    'weights': ['uniform', 'distance'],\n",
    "    'metric': ['euclidean', 'manhattan']}\n",
    "knn2 = KNeighborsClassifier()\n",
    "knn2_gs = GridSearchCV(knn2, knn2_params, cv=5, verbose=1)\n",
    "\n",
    "knn2_gs.fit(X_train, y_train)"
   ]
  },
  {
   "cell_type": "markdown",
   "metadata": {},
   "source": [
    "### Saving KNN"
   ]
  },
  {
   "cell_type": "code",
   "execution_count": 44,
   "metadata": {},
   "outputs": [],
   "source": [
    "#save model as joblib file\n",
    "import joblib\n",
    "\n",
    "# joblib.dump(knn2_gs, 'knn2_gs.jlib')"
   ]
  },
  {
   "cell_type": "code",
   "execution_count": 45,
   "metadata": {},
   "outputs": [],
   "source": [
    "#load KNN model\n",
    "# knn2_gs=joblib.load('knn2_gs.jlib')"
   ]
  },
  {
   "cell_type": "markdown",
   "metadata": {},
   "source": [
    "### KNN Evaluation"
   ]
  },
  {
   "cell_type": "code",
   "execution_count": 46,
   "metadata": {},
   "outputs": [
    {
     "name": "stdout",
     "output_type": "stream",
     "text": [
      "Best Parameters:\n",
      "{'metric': 'manhattan', 'n_neighbors': 15, 'weights': 'distance'}\n",
      "Best estimator mean cross validated training score:\n",
      "0.5910000000000001\n",
      "Best estimator score on the full training set:\n",
      "0.999\n",
      "Best estimator score on the test set:\n",
      "0.62\n"
     ]
    }
   ],
   "source": [
    "# extract the grid search results\n",
    "\n",
    "print('Best Parameters:')\n",
    "print(knn2_gs.best_params_)\n",
    "print('Best estimator mean cross validated training score:')\n",
    "print(knn2_gs.best_score_)\n",
    "print('Best estimator score on the full training set:')\n",
    "print(knn2_gs.score(X_train, y_train))\n",
    "print('Best estimator score on the test set:')\n",
    "print(knn2_gs.score(X_test, y_test))"
   ]
  },
  {
   "cell_type": "code",
   "execution_count": 47,
   "metadata": {},
   "outputs": [
    {
     "data": {
      "image/png": "[encoded data removed]",
      "text/plain": [
       "<Figure size 432x288 with 2 Axes>"
      ]
     },
     "metadata": {
      "needs_background": "light"
     },
     "output_type": "display_data"
    }
   ],
   "source": [
    "plot_confusion_matrix(knn2_gs, X_test, y_test, cmap=plt.cm.Blues);"
   ]
  },
  {
   "cell_type": "code",
   "execution_count": 48,
   "metadata": {},
   "outputs": [
    {
     "name": "stdout",
     "output_type": "stream",
     "text": [
      "              precision    recall  f1-score   support\n",
      "\n",
      "           0       1.00      1.00      1.00       535\n",
      "           1       1.00      1.00      1.00       465\n",
      "\n",
      "    accuracy                           1.00      1000\n",
      "   macro avg       1.00      1.00      1.00      1000\n",
      "weighted avg       1.00      1.00      1.00      1000\n",
      "\n"
     ]
    }
   ],
   "source": [
    "predictions_train = knn2_gs.predict(X_train)\n",
    "predictions_test = knn2_gs.predict(X_test)\n",
    "print(classification_report(y_train, predictions_train))"
   ]
  },
  {
   "cell_type": "markdown",
   "metadata": {},
   "source": [
    "# Random Forest"
   ]
  },
  {
   "cell_type": "markdown",
   "metadata": {},
   "source": [
    "### Execution and evaluation of Random Forest"
   ]
  },
  {
   "cell_type": "code",
   "execution_count": 49,
   "metadata": {
    "scrolled": true
   },
   "outputs": [
    {
     "name": "stdout",
     "output_type": "stream",
     "text": [
      "0.553\n",
      "train score: 0.579\n",
      "test score: 0.58\n",
      "n_estimator:  100\n",
      "max_depth:  5\n",
      "---------------\n",
      "0.583\n",
      "train score: 0.624\n",
      "test score: 0.64\n",
      "n_estimator:  100\n",
      "max_depth:  10\n",
      "---------------\n",
      "0.5860000000000001\n",
      "train score: 0.698\n",
      "test score: 0.628\n",
      "n_estimator:  100\n",
      "max_depth:  15\n",
      "---------------\n",
      "0.596\n",
      "train score: 0.715\n",
      "test score: 0.632\n",
      "n_estimator:  100\n",
      "max_depth:  20\n",
      "---------------\n",
      "0.5519999999999999\n",
      "train score: 0.6\n",
      "test score: 0.636\n",
      "n_estimator:  110\n",
      "max_depth:  5\n",
      "---------------\n",
      "0.583\n",
      "train score: 0.62\n",
      "test score: 0.64\n",
      "n_estimator:  110\n",
      "max_depth:  10\n",
      "---------------\n",
      "0.5860000000000001\n",
      "train score: 0.691\n",
      "test score: 0.644\n",
      "n_estimator:  110\n",
      "max_depth:  15\n",
      "---------------\n",
      "0.598\n",
      "train score: 0.714\n",
      "test score: 0.632\n",
      "n_estimator:  110\n",
      "max_depth:  20\n",
      "---------------\n",
      "0.5519999999999999\n",
      "train score: 0.575\n",
      "test score: 0.58\n",
      "n_estimator:  120\n",
      "max_depth:  5\n",
      "---------------\n",
      "0.584\n",
      "train score: 0.616\n",
      "test score: 0.64\n",
      "n_estimator:  120\n",
      "max_depth:  10\n",
      "---------------\n",
      "0.588\n",
      "train score: 0.68\n",
      "test score: 0.648\n",
      "n_estimator:  120\n",
      "max_depth:  15\n",
      "---------------\n",
      "0.596\n",
      "train score: 0.712\n",
      "test score: 0.632\n",
      "n_estimator:  120\n",
      "max_depth:  20\n",
      "---------------\n",
      "0.554\n",
      "train score: 0.575\n",
      "test score: 0.58\n",
      "n_estimator:  130\n",
      "max_depth:  5\n",
      "---------------\n",
      "0.584\n",
      "train score: 0.611\n",
      "test score: 0.64\n",
      "n_estimator:  130\n",
      "max_depth:  10\n",
      "---------------\n",
      "0.591\n",
      "train score: 0.684\n",
      "test score: 0.644\n",
      "n_estimator:  130\n",
      "max_depth:  15\n",
      "---------------\n",
      "0.597\n",
      "train score: 0.705\n",
      "test score: 0.632\n",
      "n_estimator:  130\n",
      "max_depth:  20\n",
      "---------------\n",
      "0.554\n",
      "train score: 0.567\n",
      "test score: 0.58\n",
      "n_estimator:  140\n",
      "max_depth:  5\n",
      "---------------\n",
      "0.5850000000000001\n",
      "train score: 0.611\n",
      "test score: 0.64\n",
      "n_estimator:  140\n",
      "max_depth:  10\n",
      "---------------\n",
      "0.5860000000000001\n",
      "train score: 0.679\n",
      "test score: 0.644\n",
      "n_estimator:  140\n",
      "max_depth:  15\n",
      "---------------\n",
      "0.599\n",
      "train score: 0.703\n",
      "test score: 0.636\n",
      "n_estimator:  140\n",
      "max_depth:  20\n",
      "---------------\n",
      "0.554\n",
      "train score: 0.568\n",
      "test score: 0.58\n",
      "n_estimator:  150\n",
      "max_depth:  5\n",
      "---------------\n",
      "0.5850000000000001\n",
      "train score: 0.616\n",
      "test score: 0.64\n",
      "n_estimator:  150\n",
      "max_depth:  10\n",
      "---------------\n",
      "0.588\n",
      "train score: 0.684\n",
      "test score: 0.628\n",
      "n_estimator:  150\n",
      "max_depth:  15\n",
      "---------------\n",
      "0.597\n",
      "train score: 0.701\n",
      "test score: 0.636\n",
      "n_estimator:  150\n",
      "max_depth:  20\n",
      "---------------\n",
      "0.5549999999999999\n",
      "train score: 0.561\n",
      "test score: 0.58\n",
      "n_estimator:  160\n",
      "max_depth:  5\n",
      "---------------\n",
      "0.5850000000000001\n",
      "train score: 0.613\n",
      "test score: 0.636\n",
      "n_estimator:  160\n",
      "max_depth:  10\n",
      "---------------\n",
      "0.588\n",
      "train score: 0.683\n",
      "test score: 0.644\n",
      "n_estimator:  160\n",
      "max_depth:  15\n",
      "---------------\n",
      "0.597\n",
      "train score: 0.701\n",
      "test score: 0.636\n",
      "n_estimator:  160\n",
      "max_depth:  20\n",
      "---------------\n",
      "0.5549999999999999\n",
      "train score: 0.555\n",
      "test score: 0.58\n",
      "n_estimator:  170\n",
      "max_depth:  5\n",
      "---------------\n",
      "0.5860000000000001\n",
      "train score: 0.619\n",
      "test score: 0.636\n",
      "n_estimator:  170\n",
      "max_depth:  10\n",
      "---------------\n",
      "0.589\n",
      "train score: 0.682\n",
      "test score: 0.628\n",
      "n_estimator:  170\n",
      "max_depth:  15\n",
      "---------------\n",
      "0.5959999999999999\n",
      "train score: 0.7\n",
      "test score: 0.636\n",
      "n_estimator:  170\n",
      "max_depth:  20\n",
      "---------------\n",
      "0.5549999999999999\n",
      "train score: 0.554\n",
      "test score: 0.58\n",
      "n_estimator:  180\n",
      "max_depth:  5\n",
      "---------------\n",
      "0.5860000000000001\n",
      "train score: 0.617\n",
      "test score: 0.636\n",
      "n_estimator:  180\n",
      "max_depth:  10\n",
      "---------------\n",
      "0.588\n",
      "train score: 0.683\n",
      "test score: 0.628\n",
      "n_estimator:  180\n",
      "max_depth:  15\n",
      "---------------\n",
      "0.597\n",
      "train score: 0.7\n",
      "test score: 0.64\n",
      "n_estimator:  180\n",
      "max_depth:  20\n",
      "---------------\n",
      "0.5549999999999999\n",
      "train score: 0.554\n",
      "test score: 0.58\n",
      "n_estimator:  190\n",
      "max_depth:  5\n",
      "---------------\n",
      "0.587\n",
      "train score: 0.612\n",
      "test score: 0.636\n",
      "n_estimator:  190\n",
      "max_depth:  10\n",
      "---------------\n",
      "0.588\n",
      "train score: 0.681\n",
      "test score: 0.628\n",
      "n_estimator:  190\n",
      "max_depth:  15\n",
      "---------------\n",
      "0.5959999999999999\n",
      "train score: 0.701\n",
      "test score: 0.64\n",
      "n_estimator:  190\n",
      "max_depth:  20\n",
      "---------------\n",
      "0.5549999999999999\n",
      "train score: 0.554\n",
      "test score: 0.58\n",
      "n_estimator:  200\n",
      "max_depth:  5\n",
      "---------------\n",
      "0.5860000000000001\n",
      "train score: 0.617\n",
      "test score: 0.636\n",
      "n_estimator:  200\n",
      "max_depth:  10\n",
      "---------------\n",
      "0.588\n",
      "train score: 0.682\n",
      "test score: 0.628\n",
      "n_estimator:  200\n",
      "max_depth:  15\n",
      "---------------\n",
      "0.596\n",
      "train score: 0.704\n",
      "test score: 0.636\n",
      "n_estimator:  200\n",
      "max_depth:  20\n",
      "---------------\n"
     ]
    }
   ],
   "source": [
    "for i in range(100,201,10):\n",
    "    for x in range(5,25,5):\n",
    "        model2 = RandomForestClassifier(n_estimators=i,\n",
    "                                      random_state=1, max_depth = x)\n",
    "\n",
    "        model2.fit(X_train, y_train)\n",
    "        print(cross_val_score(model2, X_train, y_train, cv=5).mean())\n",
    "        print('train score:',model2.score(X_train, y_train))\n",
    "        print('test score:',model2.score(X_test, y_test))\n",
    "        print('n_estimator: ',  i)\n",
    "        print('max_depth: ', x)\n",
    "        print('---------------')"
   ]
  },
  {
   "cell_type": "code",
   "execution_count": 50,
   "metadata": {},
   "outputs": [
    {
     "data": {
      "image/png": "[encoded data removed]",
      "text/plain": [
       "<Figure size 432x288 with 2 Axes>"
      ]
     },
     "metadata": {
      "needs_background": "light"
     },
     "output_type": "display_data"
    }
   ],
   "source": [
    "from sklearn.metrics import  plot_confusion_matrix\n",
    "plot_confusion_matrix(model2, X_test, y_test, cmap=plt.cm.Blues);"
   ]
  },
  {
   "cell_type": "code",
   "execution_count": 51,
   "metadata": {},
   "outputs": [
    {
     "name": "stdout",
     "output_type": "stream",
     "text": [
      "              precision    recall  f1-score   support\n",
      "\n",
      "           0       0.65      0.96      0.78       535\n",
      "           1       0.91      0.40      0.56       465\n",
      "\n",
      "    accuracy                           0.70      1000\n",
      "   macro avg       0.78      0.68      0.67      1000\n",
      "weighted avg       0.77      0.70      0.68      1000\n",
      "\n"
     ]
    }
   ],
   "source": [
    "predictions_train = model2.predict(X_train)\n",
    "predictions_test = model2.predict(X_test)\n",
    "print(classification_report(y_train, predictions_train))"
   ]
  },
  {
   "cell_type": "code",
   "execution_count": 52,
   "metadata": {},
   "outputs": [
    {
     "data": {
      "image/png": "[encoded data removed]",
      "text/plain": [
       "<Figure size 720x576 with 1 Axes>"
      ]
     },
     "metadata": {
      "needs_background": "light"
     },
     "output_type": "display_data"
    }
   ],
   "source": [
    "def plot_feature_importance(importance,names,model_type):\n",
    "\n",
    "    #Create arrays from feature importance and feature names\n",
    "    feature_importance = np.array(importance)\n",
    "    feature_names = np.array(names)\n",
    "\n",
    "    #Create a DataFrame using a Dictionary\n",
    "    data={'feature_names':feature_names,'feature_importance':feature_importance}\n",
    "    fi_df = pd.DataFrame(data).head(25)\n",
    "\n",
    "    #Sort the DataFrame in order decreasing feature importance\n",
    "    fi_df.sort_values(by=['feature_importance'], ascending=False,inplace=True)\n",
    "\n",
    "    #Define size of bar plot\n",
    "    plt.figure(figsize=(10,8))\n",
    "    #Plot Searborn bar chart\n",
    "    sns.barplot(x=fi_df['feature_importance'], y=fi_df['feature_names'],palette='Blues_r')\n",
    "    #Add chart labels\n",
    "    plt.title(model_type + 'FEATURE IMPORTANCE')\n",
    "    plt.xlabel('FEATURE IMPORTANCE')\n",
    "    plt.ylabel('FEATURE NAMES')\n",
    "\n",
    "plot_feature_importance(model2.feature_importances_, X_train.columns, 'RANDOM FOREST')"
   ]
  }
 ],
 "metadata": {
  "hide_input": false,
  "kernelspec": {
   "display_name": "Python 3",
   "language": "python",
   "name": "python3"
  },
  "language_info": {
   "codemirror_mode": {
    "name": "ipython",
    "version": 3
   },
   "file_extension": ".py",
   "mimetype": "text/x-python",
   "name": "python",
   "nbconvert_exporter": "python",
   "pygments_lexer": "ipython3",
   "version": "3.7.6"
  },
  "toc": {
   "base_numbering": 1,
   "nav_menu": {},
   "number_sections": false,
   "sideBar": true,
   "skip_h1_title": true,
   "title_cell": "Table of Contents",
   "title_sidebar": "Contents",
   "toc_cell": false,
   "toc_position": {},
   "toc_section_display": "block",
   "toc_window_display": false
  },
  "varInspector": {
   "cols": {
    "lenName": 16,
    "lenType": 16,
    "lenVar": 40
   },
   "kernels_config": {
    "python": {
     "delete_cmd_postfix": "",
     "delete_cmd_prefix": "del ",
     "library": "var_list.py",
     "varRefreshCmd": "print(var_dic_list())"
    },
    "r": {
     "delete_cmd_postfix": ") ",
     "delete_cmd_prefix": "rm(",
     "library": "var_list.r",
     "varRefreshCmd": "cat(var_dic_list()) "
    }
   },
   "types_to_exclude": [
    "module",
    "function",
    "builtin_function_or_method",
    "instance",
    "_Feature"
   ],
   "window_display": false
  }
 },
 "nbformat": 4,
 "nbformat_minor": 1
}
