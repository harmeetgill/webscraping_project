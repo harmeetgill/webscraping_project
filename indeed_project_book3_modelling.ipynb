{
 "cells": [
  {
   "cell_type": "markdown",
   "metadata": {
    "focus": false,
    "id": "69b9a648-bcc7-490d-9f9b-ea244d156bd6"
   },
   "source": [
    "<img src=\"http://imgur.com/1ZcRyrc.png\" style=\"float: left; margin: 15px; height: 80px\">\n",
    "\n",
    "\n",
    "# Web Scraping for Indeed.com and Predicting Salaries"
   ]
  },
  {
   "cell_type": "code",
   "execution_count": 1,
   "metadata": {
    "focus": false,
    "id": "2efefc73-064a-482d-b3b5-ddf5508cb4ec",
    "scrolled": true
   },
   "outputs": [],
   "source": [
    "import pandas as pd\n",
    "import numpy as np\n",
    "from tqdm import tqdm\n",
    "from sklearn.feature_extraction.text import CountVectorizer, TfidfVectorizer\n",
    "from sklearn.linear_model import LogisticRegression\n",
    "from sklearn.pipeline import make_pipeline\n",
    "from sklearn.model_selection import cross_val_score\n",
    "import matplotlib.pyplot as plt"
   ]
  },
  {
   "cell_type": "code",
   "execution_count": 2,
   "metadata": {},
   "outputs": [],
   "source": [
    "df_cleaned = pd.read_csv('/Users/harmeetgill/Documents/Jobs/General_assembly/Github_repos/DSI15-project-submissions/Harmeet-Gill/project-4/df_to_clean_v2 copy.csv')"
   ]
  },
  {
   "cell_type": "markdown",
   "metadata": {},
   "source": [
    "# Modelling location"
   ]
  },
  {
   "cell_type": "code",
   "execution_count": 3,
   "metadata": {},
   "outputs": [],
   "source": [
    "#set X and target\n",
    "X=df_cleaned[['Location']]\n",
    "y=df_cleaned['High or low (50%)']"
   ]
  },
  {
   "cell_type": "code",
   "execution_count": 4,
   "metadata": {},
   "outputs": [],
   "source": [
    "#dummification of location feature\n",
    "X=pd.get_dummies(X, drop_first = True)"
   ]
  },
  {
   "cell_type": "code",
   "execution_count": 5,
   "metadata": {},
   "outputs": [
    {
     "name": "stdout",
     "output_type": "stream",
     "text": [
      "(1250, 204)\n",
      "(1250,)\n"
     ]
    }
   ],
   "source": [
    "print(X.shape)\n",
    "print(y.shape)"
   ]
  },
  {
   "cell_type": "code",
   "execution_count": 6,
   "metadata": {},
   "outputs": [],
   "source": [
    "#train, test split\n",
    "from sklearn.model_selection import train_test_split\n",
    "\n",
    "X_train, X_test, y_train, y_test = train_test_split(X, y, test_size=0.2, random_state=1)"
   ]
  },
  {
   "cell_type": "code",
   "execution_count": 7,
   "metadata": {},
   "outputs": [
    {
     "name": "stdout",
     "output_type": "stream",
     "text": [
      "(1000, 204)\n",
      "(250, 204)\n",
      "(1000,)\n",
      "(250,)\n"
     ]
    }
   ],
   "source": [
    "print(X_train.shape)\n",
    "print(X_test.shape)\n",
    "print(y_train.shape)\n",
    "print(y_test.shape)\n"
   ]
  },
  {
   "cell_type": "code",
   "execution_count": 8,
   "metadata": {},
   "outputs": [],
   "source": [
    "from sklearn.linear_model import LogisticRegression\n",
    "from sklearn.feature_extraction.text import CountVectorizer, TfidfVectorizer\n",
    "from sklearn.pipeline import make_pipeline\n",
    "from sklearn.model_selection import cross_val_score"
   ]
  },
  {
   "cell_type": "code",
   "execution_count": 9,
   "metadata": {},
   "outputs": [],
   "source": [
    "from sklearn.feature_extraction.text import CountVectorizer\n",
    "\n",
    "cvec = CountVectorizer(stop_words='english')\n",
    "\n",
    "cvec.fit(df_cleaned['Title clean'])\n",
    "\n",
    "cvec_transf = cvec.transform(df_cleaned['Title clean'])\n",
    "\n"
   ]
  },
  {
   "cell_type": "code",
   "execution_count": 10,
   "metadata": {},
   "outputs": [],
   "source": [
    "sparse_array = cvec_transf.toarray()\n",
    "df=pd.DataFrame(sparse_array, columns=cvec.get_feature_names())"
   ]
  },
  {
   "cell_type": "code",
   "execution_count": 11,
   "metadata": {},
   "outputs": [],
   "source": [
    "title_vec = df.transpose().sort_values(0, ascending=False).transpose()"
   ]
  },
  {
   "cell_type": "code",
   "execution_count": 12,
   "metadata": {},
   "outputs": [
    {
     "data": {
      "text/plain": [
       "(1250, 1143)"
      ]
     },
     "execution_count": 12,
     "metadata": {},
     "output_type": "execute_result"
    }
   ],
   "source": [
    "title_vec.shape"
   ]
  },
  {
   "cell_type": "code",
   "execution_count": 13,
   "metadata": {},
   "outputs": [],
   "source": [
    "final_df = pd.concat([X_train, title_vec], axis=1)"
   ]
  },
  {
   "cell_type": "markdown",
   "metadata": {},
   "source": [
    "# Logistic regression gridsearch for location"
   ]
  },
  {
   "cell_type": "markdown",
   "metadata": {},
   "source": [
    "### Executing model"
   ]
  },
  {
   "cell_type": "code",
   "execution_count": 14,
   "metadata": {},
   "outputs": [
    {
     "name": "stdout",
     "output_type": "stream",
     "text": [
      "Fitting 5 folds for each of 40 candidates, totalling 200 fits\n"
     ]
    },
    {
     "name": "stderr",
     "output_type": "stream",
     "text": [
      "[Parallel(n_jobs=1)]: Using backend SequentialBackend with 1 concurrent workers.\n",
      "/Users/harmeetgill/anaconda3/lib/python3.7/site-packages/sklearn/svm/_base.py:947: ConvergenceWarning: Liblinear failed to converge, increase the number of iterations.\n",
      "  \"the number of iterations.\", ConvergenceWarning)\n",
      "[Parallel(n_jobs=1)]: Done 200 out of 200 | elapsed:    1.6s finished\n"
     ]
    },
    {
     "data": {
      "text/plain": [
       "GridSearchCV(cv=5, error_score=nan,\n",
       "             estimator=LogisticRegression(C=1.0, class_weight=None, dual=False,\n",
       "                                          fit_intercept=True,\n",
       "                                          intercept_scaling=1, l1_ratio=None,\n",
       "                                          max_iter=100, multi_class='auto',\n",
       "                                          n_jobs=None, penalty='l2',\n",
       "                                          random_state=1, solver='lbfgs',\n",
       "                                          tol=0.0001, verbose=0,\n",
       "                                          warm_start=False),\n",
       "             iid='deprecated', n_jobs=None,\n",
       "             param_grid={'C': array([1.00000000e-04, 7.74263683e-04, 5.99484250e-03, 4.64158883e-02,\n",
       "       3.59381366e-01, 2.78255940e+00, 2.15443469e+01, 1.66810054e+02,\n",
       "       1.29154967e+03, 1.00000000e+04]),\n",
       "                         'fit_intercept': [True, False],\n",
       "                         'penalty': ['l1', 'l2'], 'solver': ['liblinear']},\n",
       "             pre_dispatch='2*n_jobs', refit=True, return_train_score=False,\n",
       "             scoring='accuracy', verbose=1)"
      ]
     },
     "execution_count": 14,
     "metadata": {},
     "output_type": "execute_result"
    }
   ],
   "source": [
    "model = LogisticRegression(random_state=1)\n",
    "\n",
    "from sklearn.model_selection import GridSearchCV\n",
    "\n",
    "params = {'C': np.logspace(-4, 4, 10),\n",
    "          'penalty': ['l1', 'l2'],\n",
    "          'solver' : ['liblinear'],\n",
    "          'fit_intercept' : [True, False]}\n",
    "\n",
    "gs = GridSearchCV(estimator=model,\n",
    "                  param_grid=params,\n",
    "                  cv=5,\n",
    "                  scoring='accuracy',\n",
    "                  verbose=1)\n",
    "\n",
    "gs.fit(X_train, y_train)"
   ]
  },
  {
   "cell_type": "markdown",
   "metadata": {},
   "source": [
    "### Saving logistic regression"
   ]
  },
  {
   "cell_type": "code",
   "execution_count": 15,
   "metadata": {},
   "outputs": [],
   "source": [
    "#save model as joblib file\n",
    "import joblib\n",
    "\n",
    "# joblib.dump(gs, 'log_reg_gs_location.jlib')"
   ]
  },
  {
   "cell_type": "code",
   "execution_count": 16,
   "metadata": {},
   "outputs": [],
   "source": [
    "#load file\n",
    "gs=joblib.load('log_reg_gs_location.jlib')"
   ]
  },
  {
   "cell_type": "markdown",
   "metadata": {},
   "source": [
    "### Evaluating logistic regression"
   ]
  },
  {
   "cell_type": "code",
   "execution_count": 17,
   "metadata": {},
   "outputs": [
    {
     "name": "stdout",
     "output_type": "stream",
     "text": [
      "Best Parameters:\n",
      "{'C': 0.3593813663804626, 'fit_intercept': True, 'penalty': 'l2', 'solver': 'liblinear'}\n",
      "Best estimator C:\n",
      "0.3593813663804626\n",
      "Best estimator mean cross validated training score:\n",
      "0.5980000000000001\n",
      "Best estimator score on the full training set:\n",
      "0.638\n",
      "Best estimator score on the test set:\n",
      "0.64\n",
      "Best estimator coefficients:\n",
      "[[ 0.         -0.13647659  0.         -0.13647659 -0.35546276  0.\n",
      "  -0.13647659  0.56658019  0.05359376 -0.13647659 -0.25345163 -0.13647659\n",
      "  -0.09888641  0.05359376  0.51325081  0.19403563 -0.44572619 -0.29131707\n",
      "  -0.13647659  0.         -0.35546276 -0.13647659  0.19403563 -0.13647659\n",
      "   0.05359376 -0.13647659 -0.13647659 -0.09843934 -0.13647659 -0.13647659\n",
      "  -0.13647659 -0.35546276  0.         -0.13647659  0.71172284  0.19403563\n",
      "   0.19403563 -0.13647659  0.19403563 -0.25345163  0.         -0.47898852\n",
      "  -0.0676676  -0.13647659  0.19403563  0.19403563  0.          0.27976555\n",
      "   0.          0.19403563  0.19403563  0.35857677 -0.13647659  0.19403563\n",
      "   0.          0.          0.65606228 -0.06105096 -0.13647659 -0.13647659\n",
      "  -0.13647659  0.          0.21667203  0.05359376  0.4998538   0.19403563\n",
      "   0.19403563 -0.25345163  0.         -0.13647659 -0.13647659  0.19403563\n",
      "   0.05359376 -0.13647659  0.4998538   0.         -0.13647659 -0.25345163\n",
      "  -0.13647659  0.05359376 -0.13647659  0.19403563  0.19403563 -0.13647659\n",
      "   0.19403563  0.35798271 -0.25345163  0.62277821 -0.13647659  0.19403563\n",
      "   0.05359376 -0.26820491 -0.13647659 -0.13647659 -0.13647659 -0.13647659\n",
      "  -0.25345163 -0.13647659 -0.13647659  0.19403563  0.         -0.13647659\n",
      "   0.19403563 -0.13647659  0.          0.19403563  0.         -0.13647659\n",
      "   1.14009937 -0.13647659  0.05359376  0.05359376  0.05359376  0.26036263\n",
      "   0.         -0.13647659 -0.13647659 -0.13647659 -0.13647659 -0.13647659\n",
      "  -0.35546276  0.19403563 -0.5997088   0.35857677 -0.13647659 -0.25345163\n",
      "  -0.17391497 -0.13647659  0.25850631  0.35857677 -0.13647659  0.\n",
      "  -0.13647659 -0.13647659 -0.13647659  0.19403563  0.19403563  0.21290923\n",
      "   0.19403563  0.          0.19403563  0.19403563 -0.13647659 -0.13647659\n",
      "   0.02223925 -0.13647659 -0.13647659 -0.35546276  0.25761971  0.\n",
      "   0.1846874  -0.13647659  0.19403563 -0.25345163  0.35798271  0.4998538\n",
      "  -0.13647659  0.19403563  0.          0.         -0.13647659  0.05799875\n",
      "  -0.13647659  0.19403563 -0.13647659  0.19403563  0.21667203 -0.13647659\n",
      "   0.19403563 -0.13647659 -0.13647659 -0.13647659  0.19403563  0.\n",
      "  -0.13647659 -0.13647659 -0.13647659  0.21667203  0.05359376 -0.0676676\n",
      "   0.         -0.13647659  0.21667203 -0.44572619  0.4998538  -0.35546276\n",
      "  -0.13647659 -0.44572619 -0.13647659 -0.35546276 -0.13647659  0.54642411\n",
      "   0.19403563  0.05359376 -0.13647659  0.         -0.13647659  0.19403563\n",
      "  -0.13647659 -0.44572619 -0.25345163 -0.0676676   0.19403563  0.        ]]\n"
     ]
    }
   ],
   "source": [
    "# extract the grid search results\n",
    "print('Best Parameters:')\n",
    "print(gs.best_params_)\n",
    "print('Best estimator C:')\n",
    "print(gs.best_estimator_.C)\n",
    "print('Best estimator mean cross validated training score:')\n",
    "print(gs.best_score_)\n",
    "print('Best estimator score on the full training set:')\n",
    "print(gs.score(X_train, y_train))\n",
    "print('Best estimator score on the test set:')\n",
    "print(gs.score(X_test, y_test))\n",
    "print('Best estimator coefficients:')\n",
    "print(gs.best_estimator_.coef_)"
   ]
  },
  {
   "cell_type": "code",
   "execution_count": 18,
   "metadata": {},
   "outputs": [
    {
     "data": {
      "image/png": "[encoded data removed]",
      "text/plain": [
       "<Figure size 432x432 with 1 Axes>"
      ]
     },
     "metadata": {
      "needs_background": "light"
     },
     "output_type": "display_data"
    }
   ],
   "source": [
    "#plot coefficients\n",
    "coefs_lr = pd.DataFrame({\n",
    "    'coef': gs.best_estimator_.coef_[0],\n",
    "    'variable': X.columns,\n",
    "    'abscoef': np.abs(gs.best_estimator_.coef_[0])\n",
    "})\n",
    "\n",
    "top_twenty = coefs_lr.sort_values('abscoef', ascending=False).head(20)\n",
    "top_twenty.plot(kind='barh', x='variable', y='coef',\n",
    "                       figsize=(6, 6))\n",
    "plt.show()"
   ]
  },
  {
   "cell_type": "code",
   "execution_count": 19,
   "metadata": {},
   "outputs": [
    {
     "data": {
      "image/png": "[encoded data removed]",
      "text/plain": [
       "<Figure size 432x288 with 2 Axes>"
      ]
     },
     "metadata": {
      "needs_background": "light"
     },
     "output_type": "display_data"
    }
   ],
   "source": [
    "from sklearn.metrics import  plot_confusion_matrix\n",
    "plot_confusion_matrix(gs, X_test, y_test, cmap=plt.cm.Blues);"
   ]
  },
  {
   "cell_type": "markdown",
   "metadata": {},
   "source": [
    "# KNN gridsearch for location"
   ]
  },
  {
   "cell_type": "markdown",
   "metadata": {},
   "source": [
    "### Executing model"
   ]
  },
  {
   "cell_type": "code",
   "execution_count": 20,
   "metadata": {},
   "outputs": [
    {
     "name": "stdout",
     "output_type": "stream",
     "text": [
      "Fitting 5 folds for each of 28 candidates, totalling 140 fits\n"
     ]
    },
    {
     "name": "stderr",
     "output_type": "stream",
     "text": [
      "[Parallel(n_jobs=1)]: Using backend SequentialBackend with 1 concurrent workers.\n",
      "[Parallel(n_jobs=1)]: Done 140 out of 140 | elapsed:    6.4s finished\n"
     ]
    },
    {
     "data": {
      "text/plain": [
       "GridSearchCV(cv=5, error_score=nan,\n",
       "             estimator=KNeighborsClassifier(algorithm='auto', leaf_size=30,\n",
       "                                            metric='minkowski',\n",
       "                                            metric_params=None, n_jobs=None,\n",
       "                                            n_neighbors=5, p=2,\n",
       "                                            weights='uniform'),\n",
       "             iid='deprecated', n_jobs=None,\n",
       "             param_grid={'metric': ['euclidean', 'manhattan'],\n",
       "                         'n_neighbors': [5, 9, 15, 25, 40, 50, 60],\n",
       "                         'weights': ['uniform', 'distance']},\n",
       "             pre_dispatch='2*n_jobs', refit=True, return_train_score=False,\n",
       "             scoring=None, verbose=1)"
      ]
     },
     "execution_count": 20,
     "metadata": {},
     "output_type": "execute_result"
    }
   ],
   "source": [
    "#KNN FOR LOCATION ONLY\n",
    "\n",
    "from sklearn.neighbors import KNeighborsClassifier\n",
    "\n",
    "from sklearn.model_selection import GridSearchCV\n",
    "\n",
    "\n",
    "knn_params = {\n",
    "    'n_neighbors': [5, 9, 15, 25, 40, 50, 60],\n",
    "    'weights': ['uniform', 'distance'],\n",
    "    'metric': ['euclidean', 'manhattan']}\n",
    "knn = KNeighborsClassifier()\n",
    "knn_gs = GridSearchCV(knn, knn_params, cv=5, verbose=1)\n",
    "\n",
    "knn_gs.fit(X_train, y_train)"
   ]
  },
  {
   "cell_type": "markdown",
   "metadata": {},
   "source": [
    "### Saving KNN model"
   ]
  },
  {
   "cell_type": "code",
   "execution_count": 21,
   "metadata": {},
   "outputs": [],
   "source": [
    "#save model as joblib file\n",
    "import joblib\n",
    "\n",
    "# joblib.dump(knn_gs, 'knn_gs.jlib')"
   ]
  },
  {
   "cell_type": "code",
   "execution_count": 22,
   "metadata": {},
   "outputs": [],
   "source": [
    "#load KNN model\n",
    "knn_gs=joblib.load('knn_gs.jlib')"
   ]
  },
  {
   "cell_type": "markdown",
   "metadata": {},
   "source": [
    "### KNN evaluation metrics"
   ]
  },
  {
   "cell_type": "code",
   "execution_count": 23,
   "metadata": {},
   "outputs": [
    {
     "name": "stdout",
     "output_type": "stream",
     "text": [
      "Best Parameters:\n",
      "{'metric': 'euclidean', 'n_neighbors': 40, 'weights': 'distance'}\n",
      "Best estimator mean cross validated training score:\n",
      "0.594\n",
      "Best estimator score on the full training set:\n",
      "0.679\n",
      "Best estimator score on the test set:\n",
      "0.608\n"
     ]
    }
   ],
   "source": [
    "# extract the grid search results\n",
    "\n",
    "print('Best Parameters:')\n",
    "print(knn_gs.best_params_)\n",
    "print('Best estimator mean cross validated training score:')\n",
    "print(knn_gs.best_score_)\n",
    "print('Best estimator score on the full training set:')\n",
    "print(knn_gs.score(X_train, y_train))\n",
    "print('Best estimator score on the test set:')\n",
    "print(knn_gs.score(X_test, y_test))"
   ]
  },
  {
   "cell_type": "code",
   "execution_count": 24,
   "metadata": {},
   "outputs": [
    {
     "data": {
      "image/png": "[encoded data removed]",
      "text/plain": [
       "<Figure size 432x288 with 2 Axes>"
      ]
     },
     "metadata": {
      "needs_background": "light"
     },
     "output_type": "display_data"
    }
   ],
   "source": [
    "from sklearn.metrics import  plot_confusion_matrix\n",
    "plot_confusion_matrix(knn_gs, X_test, y_test, cmap=plt.cm.Blues);"
   ]
  },
  {
   "cell_type": "markdown",
   "metadata": {},
   "source": [
    "# Logistic regression gridsearch for location and title"
   ]
  },
  {
   "cell_type": "markdown",
   "metadata": {},
   "source": [
    "### Setting parameters"
   ]
  },
  {
   "cell_type": "code",
   "execution_count": 29,
   "metadata": {},
   "outputs": [],
   "source": [
    "X=df_cleaned[['Location', 'Title clean']]\n",
    "y=df_cleaned['High or low (50%)']\n",
    "\n",
    "X=pd.get_dummies(X, drop_first = True)\n",
    "\n",
    "X_train, X_test, y_train, y_test = train_test_split(X, y, test_size=0.2, random_state=1)"
   ]
  },
  {
   "cell_type": "markdown",
   "metadata": {},
   "source": [
    "### Executing logistic regression model"
   ]
  },
  {
   "cell_type": "code",
   "execution_count": 30,
   "metadata": {},
   "outputs": [
    {
     "name": "stdout",
     "output_type": "stream",
     "text": [
      "Fitting 5 folds for each of 40 candidates, totalling 200 fits\n"
     ]
    },
    {
     "name": "stderr",
     "output_type": "stream",
     "text": [
      "[Parallel(n_jobs=1)]: Using backend SequentialBackend with 1 concurrent workers.\n",
      "[Parallel(n_jobs=1)]: Done 200 out of 200 | elapsed:    3.2s finished\n"
     ]
    },
    {
     "data": {
      "text/plain": [
       "GridSearchCV(cv=5, error_score=nan,\n",
       "             estimator=LogisticRegression(C=1.0, class_weight=None, dual=False,\n",
       "                                          fit_intercept=True,\n",
       "                                          intercept_scaling=1, l1_ratio=None,\n",
       "                                          max_iter=100, multi_class='auto',\n",
       "                                          n_jobs=None, penalty='l2',\n",
       "                                          random_state=1, solver='lbfgs',\n",
       "                                          tol=0.0001, verbose=0,\n",
       "                                          warm_start=False),\n",
       "             iid='deprecated', n_jobs=None,\n",
       "             param_grid={'C': array([1.00000000e-04, 7.74263683e-04, 5.99484250e-03, 4.64158883e-02,\n",
       "       3.59381366e-01, 2.78255940e+00, 2.15443469e+01, 1.66810054e+02,\n",
       "       1.29154967e+03, 1.00000000e+04]),\n",
       "                         'fit_intercept': [True, False],\n",
       "                         'penalty': ['l1', 'l2'], 'solver': ['liblinear']},\n",
       "             pre_dispatch='2*n_jobs', refit=True, return_train_score=False,\n",
       "             scoring='accuracy', verbose=1)"
      ]
     },
     "execution_count": 30,
     "metadata": {},
     "output_type": "execute_result"
    }
   ],
   "source": [
    "model = LogisticRegression(random_state=1)\n",
    "\n",
    "from sklearn.model_selection import GridSearchCV\n",
    "\n",
    "params = {'C': np.logspace(-4, 4, 10),\n",
    "          'penalty': ['l1', 'l2'],\n",
    "          'solver' : ['liblinear'],\n",
    "          'fit_intercept' : [True, False]}\n",
    "\n",
    "gs = GridSearchCV(estimator=model,\n",
    "                  param_grid=params,\n",
    "                  cv=5,\n",
    "                  scoring='accuracy',\n",
    "                  verbose=1)\n",
    "\n",
    "gs.fit(X_train, y_train)"
   ]
  },
  {
   "cell_type": "markdown",
   "metadata": {},
   "source": [
    "### Saving logistic regression model"
   ]
  },
  {
   "cell_type": "code",
   "execution_count": 31,
   "metadata": {},
   "outputs": [
    {
     "data": {
      "text/plain": [
       "['lr_gs_loc_salary.jlib']"
      ]
     },
     "execution_count": 31,
     "metadata": {},
     "output_type": "execute_result"
    }
   ],
   "source": [
    "#save model as joblib file\n",
    "import joblib\n",
    "\n",
    "joblib.dump(gs, 'lr_gs_loc_salary.jlib')"
   ]
  },
  {
   "cell_type": "code",
   "execution_count": 32,
   "metadata": {},
   "outputs": [],
   "source": [
    "#load KNN model\n",
    "lr_gs_loc_salary=joblib.load('lr_gs_loc_salary.jlib')"
   ]
  },
  {
   "cell_type": "markdown",
   "metadata": {},
   "source": [
    "### Evaluating logistic regression"
   ]
  },
  {
   "cell_type": "code",
   "execution_count": 33,
   "metadata": {},
   "outputs": [
    {
     "name": "stdout",
     "output_type": "stream",
     "text": [
      "Best Parameters:\n",
      "{'C': 0.3593813663804626, 'fit_intercept': True, 'penalty': 'l2', 'solver': 'liblinear'}\n",
      "Best estimator C:\n",
      "0.3593813663804626\n",
      "Best estimator mean cross validated training score:\n",
      "0.615\n",
      "Best estimator score on the full training set:\n",
      "0.85\n",
      "Best estimator score on the test set:\n",
      "0.652\n",
      "Best estimator coefficients:\n",
      "[[ 0.         -0.12658839  0.         ... -0.19420901  0.\n",
      "  -0.12658839]]\n"
     ]
    }
   ],
   "source": [
    "# extract the grid search results\n",
    "print('Best Parameters:')\n",
    "print(lr_gs_loc_salary.best_params_)\n",
    "print('Best estimator C:')\n",
    "print(lr_gs_loc_salary.best_estimator_.C)\n",
    "print('Best estimator mean cross validated training score:')\n",
    "print(lr_gs_loc_salary.best_score_)\n",
    "print('Best estimator score on the full training set:')\n",
    "print(lr_gs_loc_salary.score(X_train, y_train))\n",
    "print('Best estimator score on the test set:')\n",
    "print(lr_gs_loc_salary.score(X_test, y_test))\n",
    "print('Best estimator coefficients:')\n",
    "print(lr_gs_loc_salary.best_estimator_.coef_)"
   ]
  },
  {
   "cell_type": "code",
   "execution_count": 34,
   "metadata": {},
   "outputs": [
    {
     "data": {
      "image/png": "[encoded data removed]",
      "text/plain": [
       "<Figure size 432x432 with 1 Axes>"
      ]
     },
     "metadata": {
      "needs_background": "light"
     },
     "output_type": "display_data"
    }
   ],
   "source": [
    "#plot coefficients\n",
    "coefs_lr = pd.DataFrame({\n",
    "    'coef': lr_gs_loc_salary.best_estimator_.coef_[0],\n",
    "    'variable': X.columns,\n",
    "    'abscoef': np.abs(lr_gs_loc_salary.best_estimator_.coef_[0])\n",
    "})\n",
    "\n",
    "top_twenty = coefs_lr.sort_values('abscoef', ascending=False).head(20)\n",
    "top_twenty.plot(kind='barh', x='variable', y='coef',\n",
    "                       figsize=(6, 6))\n",
    "plt.show()"
   ]
  },
  {
   "cell_type": "code",
   "execution_count": 35,
   "metadata": {},
   "outputs": [
    {
     "data": {
      "image/png": "[encoded data removed]",
      "text/plain": [
       "<Figure size 432x288 with 2 Axes>"
      ]
     },
     "metadata": {
      "needs_background": "light"
     },
     "output_type": "display_data"
    }
   ],
   "source": [
    "plot_confusion_matrix(lr_gs_loc_salary, X_test, y_test, cmap=plt.cm.Blues);"
   ]
  },
  {
   "cell_type": "markdown",
   "metadata": {},
   "source": [
    "# KNN gridsearch for location and title"
   ]
  },
  {
   "cell_type": "markdown",
   "metadata": {},
   "source": [
    "### Executing KNN"
   ]
  },
  {
   "cell_type": "code",
   "execution_count": 36,
   "metadata": {},
   "outputs": [
    {
     "name": "stdout",
     "output_type": "stream",
     "text": [
      "Fitting 5 folds for each of 28 candidates, totalling 140 fits\n"
     ]
    },
    {
     "name": "stderr",
     "output_type": "stream",
     "text": [
      "[Parallel(n_jobs=1)]: Using backend SequentialBackend with 1 concurrent workers.\n",
      "[Parallel(n_jobs=1)]: Done 140 out of 140 | elapsed:   46.5s finished\n"
     ]
    },
    {
     "data": {
      "text/plain": [
       "GridSearchCV(cv=5, error_score=nan,\n",
       "             estimator=KNeighborsClassifier(algorithm='auto', leaf_size=30,\n",
       "                                            metric='minkowski',\n",
       "                                            metric_params=None, n_jobs=None,\n",
       "                                            n_neighbors=5, p=2,\n",
       "                                            weights='uniform'),\n",
       "             iid='deprecated', n_jobs=None,\n",
       "             param_grid={'metric': ['euclidean', 'manhattan'],\n",
       "                         'n_neighbors': [5, 9, 15, 25, 40, 50, 60],\n",
       "                         'weights': ['uniform', 'distance']},\n",
       "             pre_dispatch='2*n_jobs', refit=True, return_train_score=False,\n",
       "             scoring=None, verbose=1)"
      ]
     },
     "execution_count": 36,
     "metadata": {},
     "output_type": "execute_result"
    }
   ],
   "source": [
    "from sklearn.neighbors import KNeighborsClassifier\n",
    "\n",
    "from sklearn.model_selection import GridSearchCV\n",
    "\n",
    "\n",
    "knn_params = {\n",
    "    'n_neighbors': [5, 9, 15, 25, 40, 50, 60],\n",
    "    'weights': ['uniform', 'distance'],\n",
    "    'metric': ['euclidean', 'manhattan']}\n",
    "knn2 = KNeighborsClassifier()\n",
    "knn2_gs = GridSearchCV(knn, knn_params, cv=5, verbose=1)\n",
    "\n",
    "knn2_gs.fit(X_train, y_train)"
   ]
  },
  {
   "cell_type": "markdown",
   "metadata": {},
   "source": [
    "### Saving KNN"
   ]
  },
  {
   "cell_type": "code",
   "execution_count": 39,
   "metadata": {},
   "outputs": [
    {
     "data": {
      "text/plain": [
       "['knn2_gs.jlib']"
      ]
     },
     "execution_count": 39,
     "metadata": {},
     "output_type": "execute_result"
    }
   ],
   "source": [
    "#save model as joblib file\n",
    "import joblib\n",
    "\n",
    "joblib.dump(knn2_gs, 'knn2_gs.jlib')"
   ]
  },
  {
   "cell_type": "code",
   "execution_count": 40,
   "metadata": {},
   "outputs": [],
   "source": [
    "#load KNN model\n",
    "knn2_gs=joblib.load('knn2_gs.jlib')"
   ]
  },
  {
   "cell_type": "markdown",
   "metadata": {},
   "source": [
    "### KNN Evaluation"
   ]
  },
  {
   "cell_type": "code",
   "execution_count": 43,
   "metadata": {},
   "outputs": [
    {
     "name": "stdout",
     "output_type": "stream",
     "text": [
      "Best Parameters:\n",
      "{'metric': 'manhattan', 'n_neighbors': 15, 'weights': 'distance'}\n",
      "Best estimator mean cross validated training score:\n",
      "0.5910000000000001\n",
      "Best estimator score on the full training set:\n",
      "0.999\n",
      "Best estimator score on the test set:\n",
      "0.62\n"
     ]
    }
   ],
   "source": [
    "# extract the grid search results\n",
    "\n",
    "print('Best Parameters:')\n",
    "print(knn2_gs.best_params_)\n",
    "print('Best estimator mean cross validated training score:')\n",
    "print(knn2_gs.best_score_)\n",
    "print('Best estimator score on the full training set:')\n",
    "print(knn2_gs.score(X_train, y_train))\n",
    "print('Best estimator score on the test set:')\n",
    "print(knn2_gs.score(X_test, y_test))"
   ]
  },
  {
   "cell_type": "code",
   "execution_count": 44,
   "metadata": {},
   "outputs": [
    {
     "data": {
      "image/png": "[encoded data removed]",
      "text/plain": [
       "<Figure size 432x288 with 2 Axes>"
      ]
     },
     "metadata": {
      "needs_background": "light"
     },
     "output_type": "display_data"
    }
   ],
   "source": [
    "plot_confusion_matrix(knn2_gs, X_test, y_test, cmap=plt.cm.Blues);"
   ]
  },
  {
   "cell_type": "markdown",
   "metadata": {},
   "source": [
    "**SUMMARY**\n",
    "\n",
    "Scraping:\n",
    "\n",
    "I webscraped for the following jobs: ‘Data Scientist, Data Analyst, Machine Learning’ over 15 cities. This resulted in 3543 jobs, with different salaries, in terms of salaries with ranges, annual, monthly, weekly and daily salaries. \n",
    "\n",
    "Cleaning salaries:\n",
    "The salary integers needed to be extracted, but also the information of what period the salary referred to also needed to be retained. Therefore, first cleaned the salaries to isolate the integers and split those integers into Min/Max salary and ‘Salary Period’ columns. The salary info wasn’t always a clean split, so the ‘Salary Period’ column sometimes remained empty. Therefore, I made a new column by taking the original salary column and if the period (year, month etc.) was mentioned, then this was added into the ‘Salary freq’ column.The remaining salaries in the min/max columns were then converted to floats. Next, I averaged the salaries to normalise the data so I only had one figure to deal with. To further normalise the salaries, the means were all converted to yearly salaries by multiplying the figure with the appropriate number (eg for monthly salaries the figure was multiplied by 12). Next, redundant columns were dropped (original salary, salary period, min, max).\n",
    "\n",
    "Cleaning locations:\n",
    "Some of the locations also contained postcodes, so these were removed by using .split and concatenating only the city into the original df.\n",
    "\n",
    "Cleaning titles and companies:\n",
    "I removed non-alphanumeric characters as best as I could and made them lowercase.\n",
    "\n",
    "CVEC:\n",
    "I spent time cleaning the titles so that the when I apply cvec, it would pick up the maximum number of terms. Ideally I would have liked to check more thoroughly somehow whether the strings were properly cleaned up.\n",
    "\n",
    "EDA:\n",
    "I checked the normalised salary distribution using a box plot, the data was very skewed. Ideally I would have liked to check whether my normalisation steps were correct. For example, should did I scale the salaries to yearly the correct way? Hourly salaries will probably need further normalisation because hourly rates tend to be higher. In addition, I would have liked to remove outliers.\n",
    "\n",
    "Salary median:\n",
    "As the data was so skewed, I would have liked to run the modelling on a range of percentiles. But I only had time to run the model on the median.\n",
    "\n",
    "Modelling: Location only \n",
    "Logistic regression (model 1):\n",
    "First, I ran logistic regression with a gridsearch on only location. The mean cv, train and test scores were between (0.72 and 0.78). The location which influences salary the most is London, which is not surprising London salaries tend to have higher salaries to account to cost of living. This is followed by Cambridge and Cambridgeshire, which also has a high cost of living. Next is Apsley which is in Hertfordshire. This is an outlier as the job that this refers to pays £500 a day, which would not translate into a yearly salary (unfortunately!). Therefore, this confirms that the scaling up of salaries needs to be looked at more closely. Also, it would have been useful to consolidate smaller towns into cities. The general trend is that London and Cambridge jobs pay well, while some areas in the North (e.g. Rotherham, Barnsley) pay the least well.\n",
    "\n",
    "KNN classifier (model 2):\n",
    "Second, I ran a KNN classifier with a gridsearch on only location. The mean cv, train and test scores were between (0.72 and 0.76), which were very slightly worse than model 1. \n",
    "\n",
    "Modelling: Location and Salary frequency:\n",
    "Logistic regression (model 3):\n",
    "Logistic regression with a gridsearch on location and salary frequency. The mean cv, train and test scores were between (0.78 and 0.8). As this model took more X variables, it’s predictive strength also increased slightly compared to Model 1. However,  This df revealed a problem - when I cleaned the locations, I missed locations with more than 1 string in them. Therefore, locations such as ‘High’ and ‘South’ are included in the coefficients df. I would have to go back and add these location in properly. \n",
    "\n",
    "Monthly salary frequency seems to be a stronger predictor than yearly, followed by weekly and then hourly. In addition, this model also confirms Cambridgeshire to be a strong predictor of salary. Interestingly, London is less predictive than Cambridge, in contradiction to model 1. I think this means that salary frequency is skewing the location data, which means that salary frequency might not be the best predictor to use.\n",
    "\n",
    "KNN classifier (model 4):\n",
    "Next, I ran a KNN classifier with a gridsearch on salary frequency and location. The mean cv, train and test scores were between (0.78 and 0.82), which were very slightly worse than model 1. This model was comparable to model 3.\n",
    "\n",
    "Modelling: Location and Salary frequency and title:\n",
    "Logistic regression (model 5):\n",
    "Logistic regression with a gridsearch on location, salary frequency and title. The mean cv, train and test scores were between (0.92 and 0.98). The model score considerably improved with the addition of title. Job titles with ‘tutor’ is the strongest predictor of salary. This is probably because tutors are paid hourly. The second job title is ‘director’ which again will be an anomaly as directors have a higher than average salary. \n",
    "\n",
    "It is difficult to derive information of use from this df, as the strings making up the job title have been split up. It would have been useful to join the strings to begin with (ie ‘data scientist’ or ‘dataanalyst’).\n",
    "\n",
    "Conclusion:\n",
    "\n",
    "These models in their current state are not usable due to the reasons already mentioned. It would have been useful to visually explore the cleaned data more and remove redundant terms. In addition, the use of other models would have been useful. Other methods to interrogate predictive power would have been useful, for example a confusion matrix and ROC curve to display true/false positive rates and true/false negative rates of the models. Therefore, while the scores are reasonably high, I would want to explore the data further before deriving any conclusions. \n",
    "\n",
    "\n",
    "\n",
    "\n",
    "\n"
   ]
  },
  {
   "cell_type": "code",
   "execution_count": null,
   "metadata": {},
   "outputs": [],
   "source": []
  }
 ],
 "metadata": {
  "hide_input": false,
  "kernelspec": {
   "display_name": "Python 3",
   "language": "python",
   "name": "python3"
  },
  "language_info": {
   "codemirror_mode": {
    "name": "ipython",
    "version": 3
   },
   "file_extension": ".py",
   "mimetype": "text/x-python",
   "name": "python",
   "nbconvert_exporter": "python",
   "pygments_lexer": "ipython3",
   "version": "3.7.6"
  },
  "toc": {
   "base_numbering": 1,
   "nav_menu": {},
   "number_sections": false,
   "sideBar": true,
   "skip_h1_title": true,
   "title_cell": "Table of Contents",
   "title_sidebar": "Contents",
   "toc_cell": false,
   "toc_position": {},
   "toc_section_display": "block",
   "toc_window_display": false
  },
  "varInspector": {
   "cols": {
    "lenName": 16,
    "lenType": 16,
    "lenVar": 40
   },
   "kernels_config": {
    "python": {
     "delete_cmd_postfix": "",
     "delete_cmd_prefix": "del ",
     "library": "var_list.py",
     "varRefreshCmd": "print(var_dic_list())"
    },
    "r": {
     "delete_cmd_postfix": ") ",
     "delete_cmd_prefix": "rm(",
     "library": "var_list.r",
     "varRefreshCmd": "cat(var_dic_list()) "
    }
   },
   "types_to_exclude": [
    "module",
    "function",
    "builtin_function_or_method",
    "instance",
    "_Feature"
   ],
   "window_display": false
  }
 },
 "nbformat": 4,
 "nbformat_minor": 1
}
