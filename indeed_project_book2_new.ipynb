{
 "cells": [
  {
   "cell_type": "markdown",
   "metadata": {
    "focus": false,
    "id": "69b9a648-bcc7-490d-9f9b-ea244d156bd6"
   },
   "source": [
    "<img src=\"http://imgur.com/1ZcRyrc.png\" style=\"float: left; margin: 15px; height: 80px\">\n",
    "\n",
    "\n",
    "# Web Scraping for Indeed.com and Predicting Salaries"
   ]
  },
  {
   "cell_type": "code",
   "execution_count": 1,
   "metadata": {
    "focus": false,
    "id": "2efefc73-064a-482d-b3b5-ddf5508cb4ec",
    "scrolled": true
   },
   "outputs": [],
   "source": [
    "import pandas as pd\n",
    "import numpy as np\n",
    "from bs4 import BeautifulSoup\n",
    "import requests\n",
    "from tqdm import tqdm"
   ]
  },
  {
   "cell_type": "markdown",
   "metadata": {
    "hide_input": true
   },
   "source": [
    "### Creating dataframe/reading in csv\n"
   ]
  },
  {
   "cell_type": "code",
   "execution_count": 2,
   "metadata": {},
   "outputs": [],
   "source": [
    "import pandas as pd\n",
    "import numpy as np\n",
    "from bs4 import BeautifulSoup\n",
    "import requests\n",
    "from tqdm import tqdm"
   ]
  },
  {
   "cell_type": "code",
   "execution_count": 3,
   "metadata": {},
   "outputs": [],
   "source": [
    "df_lon = pd.read_csv('/Users/harmeetgill/Documents/Jobs/General_assembly/Github_repos/DSI15-lessons/project/project-4/df_london.csv', index_col=0)\n",
    "df_non = pd.read_csv('/Users/harmeetgill/Documents/Jobs/General_assembly/Github_repos/DSI15-lessons/project/project-4/df_non_london_v2.csv', index_col=0)"
   ]
  },
  {
   "cell_type": "code",
   "execution_count": 4,
   "metadata": {},
   "outputs": [
    {
     "data": {
      "text/plain": [
       "(6563, 4)"
      ]
     },
     "execution_count": 4,
     "metadata": {},
     "output_type": "execute_result"
    }
   ],
   "source": [
    "concat_df=pd.concat([df_non, df_lon])\n",
    "concat_df.shape"
   ]
  },
  {
   "cell_type": "code",
   "execution_count": 5,
   "metadata": {},
   "outputs": [
    {
     "data": {
      "text/html": [
       "<div>\n",
       "<style scoped>\n",
       "    .dataframe tbody tr th:only-of-type {\n",
       "        vertical-align: middle;\n",
       "    }\n",
       "\n",
       "    .dataframe tbody tr th {\n",
       "        vertical-align: top;\n",
       "    }\n",
       "\n",
       "    .dataframe thead th {\n",
       "        text-align: right;\n",
       "    }\n",
       "</style>\n",
       "<table border=\"1\" class=\"dataframe\">\n",
       "  <thead>\n",
       "    <tr style=\"text-align: right;\">\n",
       "      <th></th>\n",
       "      <th>Title</th>\n",
       "      <th>Company</th>\n",
       "      <th>Salary</th>\n",
       "      <th>Location</th>\n",
       "    </tr>\n",
       "  </thead>\n",
       "  <tbody>\n",
       "    <tr>\n",
       "      <th>0</th>\n",
       "      <td>Computer Vision and Machine Learning Engineer</td>\n",
       "      <td>FLOX Ltd</td>\n",
       "      <td>£30,000 a year</td>\n",
       "      <td>London</td>\n",
       "    </tr>\n",
       "    <tr>\n",
       "      <th>1</th>\n",
       "      <td>Machine Learning Scientist - Data Science &amp; AI...</td>\n",
       "      <td>Asos.com</td>\n",
       "      <td>NaN</td>\n",
       "      <td>London</td>\n",
       "    </tr>\n",
       "    <tr>\n",
       "      <th>2</th>\n",
       "      <td>Graduate Program - Associate Data Scientist\\nnew</td>\n",
       "      <td>RELX Group</td>\n",
       "      <td>NaN</td>\n",
       "      <td>London</td>\n",
       "    </tr>\n",
       "    <tr>\n",
       "      <th>3</th>\n",
       "      <td>Data and Research Analyst</td>\n",
       "      <td>Cancer Research UK</td>\n",
       "      <td>£31,000 a year</td>\n",
       "      <td>Stratford</td>\n",
       "    </tr>\n",
       "    <tr>\n",
       "      <th>4</th>\n",
       "      <td>Junior NLP/Machine Learning Developer\\nnew</td>\n",
       "      <td>ProWritingAid</td>\n",
       "      <td>NaN</td>\n",
       "      <td>London</td>\n",
       "    </tr>\n",
       "  </tbody>\n",
       "</table>\n",
       "</div>"
      ],
      "text/plain": [
       "                                               Title             Company  \\\n",
       "0      Computer Vision and Machine Learning Engineer            FLOX Ltd   \n",
       "1  Machine Learning Scientist - Data Science & AI...            Asos.com   \n",
       "2   Graduate Program - Associate Data Scientist\\nnew          RELX Group   \n",
       "3                          Data and Research Analyst  Cancer Research UK   \n",
       "4         Junior NLP/Machine Learning Developer\\nnew       ProWritingAid   \n",
       "\n",
       "           Salary   Location  \n",
       "0  £30,000 a year     London  \n",
       "1             NaN     London  \n",
       "2             NaN     London  \n",
       "3  £31,000 a year  Stratford  \n",
       "4             NaN     London  "
      ]
     },
     "execution_count": 5,
     "metadata": {},
     "output_type": "execute_result"
    }
   ],
   "source": [
    "concat_df.head()"
   ]
  },
  {
   "cell_type": "markdown",
   "metadata": {},
   "source": [
    "## General data cleaning"
   ]
  },
  {
   "cell_type": "code",
   "execution_count": 6,
   "metadata": {},
   "outputs": [],
   "source": [
    "#removed duplicates\n",
    "concat_df.drop_duplicates(inplace=True)\n",
    "concat_df.dropna(axis = 0, inplace=True)"
   ]
  },
  {
   "cell_type": "markdown",
   "metadata": {},
   "source": [
    "## Salary cleaning \n"
   ]
  },
  {
   "cell_type": "code",
   "execution_count": 7,
   "metadata": {},
   "outputs": [],
   "source": [
    "#removing symbols/characters from salary to leave the integer.\n",
    "\n",
    "concat_df['Salary'] = concat_df['Salary'].str.replace(',', '')\n",
    "concat_df['Salary'] = concat_df['Salary'].str.replace('£', '')\n",
    "concat_df['Salary'] = concat_df['Salary'].str.replace('-', '')\n",
    "\n",
    "#split up words in salaries column \n",
    "split_salary=concat_df[\"Salary\"].str.split(\" \", expand = True)\n",
    "\n",
    "#saving split up data to new cols\n",
    "concat_df['Min Salary'] = split_salary[0]\n",
    "concat_df['Max Salary'] = split_salary[2]\n",
    "concat_df['Salary Period']=split_salary[4]"
   ]
  },
  {
   "cell_type": "code",
   "execution_count": 8,
   "metadata": {},
   "outputs": [],
   "source": [
    "#made a new column to define whether the salary amount is annual, monthly etc.\n",
    "concat_df['Salary_freq'] = concat_df.Salary.apply(lambda x: 'year' if 'year' in str(x) \n",
    "                                      else 'month' if 'month' in str(x) \n",
    "                                      else 'week' if 'week' in str(x)\n",
    "                                      else 'day' if 'day' in str(x) \n",
    "                                      else 'hour' if 'hour' in str(x) \n",
    "\n",
    "                                     else None)"
   ]
  },
  {
   "cell_type": "code",
   "execution_count": 9,
   "metadata": {},
   "outputs": [],
   "source": [
    "#replaced 'year' in max with min salary value\n",
    "concat_df['Max Salary'] = np.where(concat_df['Max Salary'] == 'year', concat_df['Min Salary'], concat_df['Max Salary'])\n",
    "concat_df['Max Salary'] = np.where(concat_df['Max Salary'] == 'month', concat_df['Min Salary'], concat_df['Max Salary'])\n",
    "concat_df['Max Salary'] = np.where(concat_df['Max Salary'] == 'week', concat_df['Min Salary'], concat_df['Max Salary'])\n",
    "concat_df['Max Salary'] = np.where(concat_df['Max Salary'] == 'day', concat_df['Min Salary'], concat_df['Max Salary'])\n",
    "concat_df['Max Salary'] = np.where(concat_df['Max Salary'] == 'hour', concat_df['Min Salary'], concat_df['Max Salary'])\n",
    "\n",
    "#converted salaries to floats\n",
    "concat_df['Min Salary'] = concat_df['Min Salary'].astype(float)\n",
    "concat_df['Max Salary'] = concat_df['Max Salary'].astype(float)"
   ]
  },
  {
   "cell_type": "code",
   "execution_count": 10,
   "metadata": {},
   "outputs": [],
   "source": [
    "#selected, averaged min/max salary and added to new col.\n",
    "avg_sal=concat_df.iloc[:,4:6]\n",
    "concat_df['salary_mean'] = avg_sal.mean(axis=1)"
   ]
  },
  {
   "cell_type": "code",
   "execution_count": 11,
   "metadata": {},
   "outputs": [
    {
     "data": {
      "text/plain": [
       "year     971\n",
       "hour     211\n",
       "day       44\n",
       "week      15\n",
       "month      9\n",
       "Name: Salary_freq, dtype: int64"
      ]
     },
     "execution_count": 11,
     "metadata": {},
     "output_type": "execute_result"
    }
   ],
   "source": [
    "concat_df['Salary_freq'].value_counts()"
   ]
  },
  {
   "cell_type": "code",
   "execution_count": 12,
   "metadata": {},
   "outputs": [],
   "source": [
    "#defined a function to normalise all salary periods to annual.\n",
    "def salary_convert(row):\n",
    "        if row['Salary_freq'] == 'month' :\n",
    "            return (row['salary_mean'] * 12)\n",
    "        elif row['Salary_freq'] == 'week' :\n",
    "            return row['salary_mean'] * 52\n",
    "        elif row['Salary_freq'] == 'day' :\n",
    "            return row['salary_mean'] *256\n",
    "        elif row['Salary_freq'] == 'hour' :\n",
    "            return row['salary_mean'] *1538\n",
    "        elif row['Salary_freq'] == 'year' :\n",
    "            return row['salary_mean']\n"
   ]
  },
  {
   "cell_type": "code",
   "execution_count": 13,
   "metadata": {},
   "outputs": [],
   "source": [
    "concat_df['salary_mean_normalised']=concat_df.apply(lambda row: salary_convert(row), axis=1, result_type='expand')"
   ]
  },
  {
   "cell_type": "code",
   "execution_count": 14,
   "metadata": {},
   "outputs": [],
   "source": [
    "#dropped NAs in original salary column\n",
    "concat_df.drop(columns = ['Salary',\n",
    "                          'Salary Period',\n",
    "                          'Min Salary',\n",
    "                          'Max Salary'\n",
    "                         ], axis=1, inplace=True)\n"
   ]
  },
  {
   "cell_type": "code",
   "execution_count": 15,
   "metadata": {},
   "outputs": [
    {
     "data": {
      "text/plain": [
       "(1250, 6)"
      ]
     },
     "execution_count": 15,
     "metadata": {},
     "output_type": "execute_result"
    }
   ],
   "source": [
    "concat_df.shape"
   ]
  },
  {
   "cell_type": "code",
   "execution_count": 16,
   "metadata": {},
   "outputs": [],
   "source": [
    "#removed postcodes\n",
    "clean_loc = concat_df[\"Location\"].str.split(\" \", expand = True)\n",
    "concat_df['Location'] = clean_loc[0]"
   ]
  },
  {
   "cell_type": "code",
   "execution_count": 17,
   "metadata": {},
   "outputs": [],
   "source": [
    "concat_df.dropna(axis = 0, inplace=True)"
   ]
  },
  {
   "cell_type": "code",
   "execution_count": 18,
   "metadata": {},
   "outputs": [
    {
     "data": {
      "text/plain": [
       "(1250, 6)"
      ]
     },
     "execution_count": 18,
     "metadata": {},
     "output_type": "execute_result"
    }
   ],
   "source": [
    "concat_df.shape"
   ]
  },
  {
   "cell_type": "markdown",
   "metadata": {},
   "source": [
    "### Setting salary categories (high/low)"
   ]
  },
  {
   "cell_type": "code",
   "execution_count": 19,
   "metadata": {
    "focus": false,
    "id": "588f9845-6143-4bcc-bfd1-85d45b79303d",
    "scrolled": true
   },
   "outputs": [],
   "source": [
    "def salary_cutoff (x):\n",
    "    if x['salary_mean_normalised'] <= 28000 :\n",
    "        return '0'\n",
    "    else:\n",
    "        return '1'"
   ]
  },
  {
   "cell_type": "code",
   "execution_count": 20,
   "metadata": {},
   "outputs": [],
   "source": [
    "concat_df['High or low (50%)'] = concat_df.apply (lambda x: salary_cutoff(x), axis=1)"
   ]
  },
  {
   "cell_type": "code",
   "execution_count": 21,
   "metadata": {},
   "outputs": [],
   "source": [
    "concat_df['High or low (75%)'] = concat_df.apply (lambda x: salary_cutoff(x), axis=1)\n"
   ]
  },
  {
   "cell_type": "code",
   "execution_count": 22,
   "metadata": {},
   "outputs": [
    {
     "data": {
      "text/html": [
       "<div>\n",
       "<style scoped>\n",
       "    .dataframe tbody tr th:only-of-type {\n",
       "        vertical-align: middle;\n",
       "    }\n",
       "\n",
       "    .dataframe tbody tr th {\n",
       "        vertical-align: top;\n",
       "    }\n",
       "\n",
       "    .dataframe thead th {\n",
       "        text-align: right;\n",
       "    }\n",
       "</style>\n",
       "<table border=\"1\" class=\"dataframe\">\n",
       "  <thead>\n",
       "    <tr style=\"text-align: right;\">\n",
       "      <th></th>\n",
       "      <th>Title</th>\n",
       "      <th>Company</th>\n",
       "      <th>Location</th>\n",
       "      <th>Salary_freq</th>\n",
       "      <th>salary_mean</th>\n",
       "      <th>salary_mean_normalised</th>\n",
       "      <th>High or low (50%)</th>\n",
       "      <th>High or low (75%)</th>\n",
       "    </tr>\n",
       "  </thead>\n",
       "  <tbody>\n",
       "    <tr>\n",
       "      <th>0</th>\n",
       "      <td>Computer Vision and Machine Learning Engineer</td>\n",
       "      <td>FLOX Ltd</td>\n",
       "      <td>London</td>\n",
       "      <td>year</td>\n",
       "      <td>30000.0</td>\n",
       "      <td>30000.0</td>\n",
       "      <td>1</td>\n",
       "      <td>1</td>\n",
       "    </tr>\n",
       "    <tr>\n",
       "      <th>3</th>\n",
       "      <td>Data and Research Analyst</td>\n",
       "      <td>Cancer Research UK</td>\n",
       "      <td>Stratford</td>\n",
       "      <td>year</td>\n",
       "      <td>31000.0</td>\n",
       "      <td>31000.0</td>\n",
       "      <td>1</td>\n",
       "      <td>1</td>\n",
       "    </tr>\n",
       "    <tr>\n",
       "      <th>5</th>\n",
       "      <td>DATA SCIENTIST | VERV | LONDON OR SHEFFIELD</td>\n",
       "      <td>Austin Consultants</td>\n",
       "      <td>London</td>\n",
       "      <td>year</td>\n",
       "      <td>60000.0</td>\n",
       "      <td>60000.0</td>\n",
       "      <td>1</td>\n",
       "      <td>1</td>\n",
       "    </tr>\n",
       "    <tr>\n",
       "      <th>6</th>\n",
       "      <td>Data Scientist - Machine Learning\\nnew</td>\n",
       "      <td>Harnham</td>\n",
       "      <td>London</td>\n",
       "      <td>day</td>\n",
       "      <td>525.0</td>\n",
       "      <td>134400.0</td>\n",
       "      <td>1</td>\n",
       "      <td>1</td>\n",
       "    </tr>\n",
       "    <tr>\n",
       "      <th>7</th>\n",
       "      <td>Principal Data Scientist\\nnew</td>\n",
       "      <td>Nesta</td>\n",
       "      <td>London</td>\n",
       "      <td>year</td>\n",
       "      <td>51500.0</td>\n",
       "      <td>51500.0</td>\n",
       "      <td>1</td>\n",
       "      <td>1</td>\n",
       "    </tr>\n",
       "  </tbody>\n",
       "</table>\n",
       "</div>"
      ],
      "text/plain": [
       "                                           Title             Company  \\\n",
       "0  Computer Vision and Machine Learning Engineer            FLOX Ltd   \n",
       "3                      Data and Research Analyst  Cancer Research UK   \n",
       "5    DATA SCIENTIST | VERV | LONDON OR SHEFFIELD  Austin Consultants   \n",
       "6         Data Scientist - Machine Learning\\nnew             Harnham   \n",
       "7                  Principal Data Scientist\\nnew               Nesta   \n",
       "\n",
       "    Location Salary_freq  salary_mean  salary_mean_normalised  \\\n",
       "0     London        year      30000.0                 30000.0   \n",
       "3  Stratford        year      31000.0                 31000.0   \n",
       "5     London        year      60000.0                 60000.0   \n",
       "6     London         day        525.0                134400.0   \n",
       "7     London        year      51500.0                 51500.0   \n",
       "\n",
       "  High or low (50%) High or low (75%)  \n",
       "0                 1                 1  \n",
       "3                 1                 1  \n",
       "5                 1                 1  \n",
       "6                 1                 1  \n",
       "7                 1                 1  "
      ]
     },
     "execution_count": 22,
     "metadata": {},
     "output_type": "execute_result"
    }
   ],
   "source": [
    "concat_df.head()"
   ]
  },
  {
   "cell_type": "code",
   "execution_count": 23,
   "metadata": {},
   "outputs": [],
   "source": [
    "df_to_clean= concat_df"
   ]
  },
  {
   "cell_type": "code",
   "execution_count": 24,
   "metadata": {
    "scrolled": true
   },
   "outputs": [
    {
     "data": {
      "text/html": [
       "<div>\n",
       "<style scoped>\n",
       "    .dataframe tbody tr th:only-of-type {\n",
       "        vertical-align: middle;\n",
       "    }\n",
       "\n",
       "    .dataframe tbody tr th {\n",
       "        vertical-align: top;\n",
       "    }\n",
       "\n",
       "    .dataframe thead th {\n",
       "        text-align: right;\n",
       "    }\n",
       "</style>\n",
       "<table border=\"1\" class=\"dataframe\">\n",
       "  <thead>\n",
       "    <tr style=\"text-align: right;\">\n",
       "      <th></th>\n",
       "      <th>Title</th>\n",
       "      <th>Company</th>\n",
       "      <th>Location</th>\n",
       "      <th>Salary_freq</th>\n",
       "      <th>salary_mean</th>\n",
       "      <th>salary_mean_normalised</th>\n",
       "      <th>High or low (50%)</th>\n",
       "      <th>High or low (75%)</th>\n",
       "    </tr>\n",
       "  </thead>\n",
       "  <tbody>\n",
       "    <tr>\n",
       "      <th>0</th>\n",
       "      <td>Computer Vision and Machine Learning Engineer</td>\n",
       "      <td>FLOX Ltd</td>\n",
       "      <td>London</td>\n",
       "      <td>year</td>\n",
       "      <td>30000.0</td>\n",
       "      <td>30000.0</td>\n",
       "      <td>1</td>\n",
       "      <td>1</td>\n",
       "    </tr>\n",
       "    <tr>\n",
       "      <th>3</th>\n",
       "      <td>Data and Research Analyst</td>\n",
       "      <td>Cancer Research UK</td>\n",
       "      <td>Stratford</td>\n",
       "      <td>year</td>\n",
       "      <td>31000.0</td>\n",
       "      <td>31000.0</td>\n",
       "      <td>1</td>\n",
       "      <td>1</td>\n",
       "    </tr>\n",
       "    <tr>\n",
       "      <th>5</th>\n",
       "      <td>DATA SCIENTIST | VERV | LONDON OR SHEFFIELD</td>\n",
       "      <td>Austin Consultants</td>\n",
       "      <td>London</td>\n",
       "      <td>year</td>\n",
       "      <td>60000.0</td>\n",
       "      <td>60000.0</td>\n",
       "      <td>1</td>\n",
       "      <td>1</td>\n",
       "    </tr>\n",
       "    <tr>\n",
       "      <th>6</th>\n",
       "      <td>Data Scientist - Machine Learning\\nnew</td>\n",
       "      <td>Harnham</td>\n",
       "      <td>London</td>\n",
       "      <td>day</td>\n",
       "      <td>525.0</td>\n",
       "      <td>134400.0</td>\n",
       "      <td>1</td>\n",
       "      <td>1</td>\n",
       "    </tr>\n",
       "    <tr>\n",
       "      <th>7</th>\n",
       "      <td>Principal Data Scientist\\nnew</td>\n",
       "      <td>Nesta</td>\n",
       "      <td>London</td>\n",
       "      <td>year</td>\n",
       "      <td>51500.0</td>\n",
       "      <td>51500.0</td>\n",
       "      <td>1</td>\n",
       "      <td>1</td>\n",
       "    </tr>\n",
       "  </tbody>\n",
       "</table>\n",
       "</div>"
      ],
      "text/plain": [
       "                                           Title             Company  \\\n",
       "0  Computer Vision and Machine Learning Engineer            FLOX Ltd   \n",
       "3                      Data and Research Analyst  Cancer Research UK   \n",
       "5    DATA SCIENTIST | VERV | LONDON OR SHEFFIELD  Austin Consultants   \n",
       "6         Data Scientist - Machine Learning\\nnew             Harnham   \n",
       "7                  Principal Data Scientist\\nnew               Nesta   \n",
       "\n",
       "    Location Salary_freq  salary_mean  salary_mean_normalised  \\\n",
       "0     London        year      30000.0                 30000.0   \n",
       "3  Stratford        year      31000.0                 31000.0   \n",
       "5     London        year      60000.0                 60000.0   \n",
       "6     London         day        525.0                134400.0   \n",
       "7     London        year      51500.0                 51500.0   \n",
       "\n",
       "  High or low (50%) High or low (75%)  \n",
       "0                 1                 1  \n",
       "3                 1                 1  \n",
       "5                 1                 1  \n",
       "6                 1                 1  \n",
       "7                 1                 1  "
      ]
     },
     "execution_count": 24,
     "metadata": {},
     "output_type": "execute_result"
    }
   ],
   "source": [
    "df_to_clean.head()"
   ]
  },
  {
   "cell_type": "markdown",
   "metadata": {},
   "source": [
    "## Title/Company cleaning"
   ]
  },
  {
   "cell_type": "code",
   "execution_count": 25,
   "metadata": {},
   "outputs": [],
   "source": [
    "import re\n",
    "import string"
   ]
  },
  {
   "cell_type": "code",
   "execution_count": 26,
   "metadata": {},
   "outputs": [],
   "source": [
    "#clean up of strings\n",
    "\n",
    "def clean_up(x):\n",
    "#        return x.replace({r'\\w+': '')\n",
    "#     return x.lower()\n",
    "    x= x.replace('&',' ')\n",
    "    x=x.replace('\\nnew',' ')\n",
    "    x=x.replace('-',' ')\n",
    "    x=x.replace('/',' ')\n",
    "    x=x.replace('|',' ')\n",
    "    x=x.replace('.',' ')\n",
    "    x=x.replace('(',' ')\n",
    "    x=x.replace(')',' ')\n",
    "    x=x.lower()\n",
    "    return x"
   ]
  },
  {
   "cell_type": "code",
   "execution_count": 27,
   "metadata": {},
   "outputs": [],
   "source": [
    "#unclean df title and company is cleaned and saved to new col name\n",
    "df_to_clean['Title clean']=df_to_clean['Title'].apply(clean_up)"
   ]
  },
  {
   "cell_type": "code",
   "execution_count": 28,
   "metadata": {},
   "outputs": [],
   "source": [
    "df_to_clean['Company_clean']=df_to_clean['Company'].apply(clean_up)"
   ]
  },
  {
   "cell_type": "code",
   "execution_count": 29,
   "metadata": {},
   "outputs": [
    {
     "data": {
      "text/html": [
       "<div>\n",
       "<style scoped>\n",
       "    .dataframe tbody tr th:only-of-type {\n",
       "        vertical-align: middle;\n",
       "    }\n",
       "\n",
       "    .dataframe tbody tr th {\n",
       "        vertical-align: top;\n",
       "    }\n",
       "\n",
       "    .dataframe thead th {\n",
       "        text-align: right;\n",
       "    }\n",
       "</style>\n",
       "<table border=\"1\" class=\"dataframe\">\n",
       "  <thead>\n",
       "    <tr style=\"text-align: right;\">\n",
       "      <th></th>\n",
       "      <th>Title</th>\n",
       "      <th>Company</th>\n",
       "      <th>Location</th>\n",
       "      <th>Salary_freq</th>\n",
       "      <th>salary_mean</th>\n",
       "      <th>salary_mean_normalised</th>\n",
       "      <th>High or low (50%)</th>\n",
       "      <th>High or low (75%)</th>\n",
       "      <th>Title clean</th>\n",
       "      <th>Company_clean</th>\n",
       "    </tr>\n",
       "  </thead>\n",
       "  <tbody>\n",
       "    <tr>\n",
       "      <th>0</th>\n",
       "      <td>Computer Vision and Machine Learning Engineer</td>\n",
       "      <td>FLOX Ltd</td>\n",
       "      <td>London</td>\n",
       "      <td>year</td>\n",
       "      <td>30000.00</td>\n",
       "      <td>30000.00</td>\n",
       "      <td>1</td>\n",
       "      <td>1</td>\n",
       "      <td>computer vision and machine learning engineer</td>\n",
       "      <td>flox ltd</td>\n",
       "    </tr>\n",
       "    <tr>\n",
       "      <th>3</th>\n",
       "      <td>Data and Research Analyst</td>\n",
       "      <td>Cancer Research UK</td>\n",
       "      <td>Stratford</td>\n",
       "      <td>year</td>\n",
       "      <td>31000.00</td>\n",
       "      <td>31000.00</td>\n",
       "      <td>1</td>\n",
       "      <td>1</td>\n",
       "      <td>data and research analyst</td>\n",
       "      <td>cancer research uk</td>\n",
       "    </tr>\n",
       "    <tr>\n",
       "      <th>5</th>\n",
       "      <td>DATA SCIENTIST | VERV | LONDON OR SHEFFIELD</td>\n",
       "      <td>Austin Consultants</td>\n",
       "      <td>London</td>\n",
       "      <td>year</td>\n",
       "      <td>60000.00</td>\n",
       "      <td>60000.00</td>\n",
       "      <td>1</td>\n",
       "      <td>1</td>\n",
       "      <td>data scientist   verv   london or sheffield</td>\n",
       "      <td>austin consultants</td>\n",
       "    </tr>\n",
       "    <tr>\n",
       "      <th>6</th>\n",
       "      <td>Data Scientist - Machine Learning\\nnew</td>\n",
       "      <td>Harnham</td>\n",
       "      <td>London</td>\n",
       "      <td>day</td>\n",
       "      <td>525.00</td>\n",
       "      <td>134400.00</td>\n",
       "      <td>1</td>\n",
       "      <td>1</td>\n",
       "      <td>data scientist   machine learning</td>\n",
       "      <td>harnham</td>\n",
       "    </tr>\n",
       "    <tr>\n",
       "      <th>7</th>\n",
       "      <td>Principal Data Scientist\\nnew</td>\n",
       "      <td>Nesta</td>\n",
       "      <td>London</td>\n",
       "      <td>year</td>\n",
       "      <td>51500.00</td>\n",
       "      <td>51500.00</td>\n",
       "      <td>1</td>\n",
       "      <td>1</td>\n",
       "      <td>principal data scientist</td>\n",
       "      <td>nesta</td>\n",
       "    </tr>\n",
       "    <tr>\n",
       "      <th>...</th>\n",
       "      <td>...</td>\n",
       "      <td>...</td>\n",
       "      <td>...</td>\n",
       "      <td>...</td>\n",
       "      <td>...</td>\n",
       "      <td>...</td>\n",
       "      <td>...</td>\n",
       "      <td>...</td>\n",
       "      <td>...</td>\n",
       "      <td>...</td>\n",
       "    </tr>\n",
       "    <tr>\n",
       "      <th>4960</th>\n",
       "      <td>Customer Success Manager, (Customer Experience...</td>\n",
       "      <td>The Purely Recruitment Company Ltd</td>\n",
       "      <td>Didcot</td>\n",
       "      <td>year</td>\n",
       "      <td>60000.00</td>\n",
       "      <td>60000.00</td>\n",
       "      <td>1</td>\n",
       "      <td>1</td>\n",
       "      <td>customer success manager,  customer experience...</td>\n",
       "      <td>the purely recruitment company ltd</td>\n",
       "    </tr>\n",
       "    <tr>\n",
       "      <th>4961</th>\n",
       "      <td>Employment Advisor - Fixed Term Contract (JETS...</td>\n",
       "      <td>Activate Learning</td>\n",
       "      <td>Oxford</td>\n",
       "      <td>year</td>\n",
       "      <td>27012.00</td>\n",
       "      <td>27012.00</td>\n",
       "      <td>0</td>\n",
       "      <td>0</td>\n",
       "      <td>employment advisor   fixed term contract  jets...</td>\n",
       "      <td>activate learning</td>\n",
       "    </tr>\n",
       "    <tr>\n",
       "      <th>4963</th>\n",
       "      <td>Guest Speaker\\nnew</td>\n",
       "      <td>Oxford Summer Courses</td>\n",
       "      <td>Oxford</td>\n",
       "      <td>hour</td>\n",
       "      <td>100.00</td>\n",
       "      <td>153800.00</td>\n",
       "      <td>1</td>\n",
       "      <td>1</td>\n",
       "      <td>guest speaker</td>\n",
       "      <td>oxford summer courses</td>\n",
       "    </tr>\n",
       "    <tr>\n",
       "      <th>4964</th>\n",
       "      <td>Multi Skilled Operative\\nnew</td>\n",
       "      <td>Grand Union Housing Group</td>\n",
       "      <td>Brackley</td>\n",
       "      <td>year</td>\n",
       "      <td>28773.00</td>\n",
       "      <td>28773.00</td>\n",
       "      <td>1</td>\n",
       "      <td>1</td>\n",
       "      <td>multi skilled operative</td>\n",
       "      <td>grand union housing group</td>\n",
       "    </tr>\n",
       "    <tr>\n",
       "      <th>5024</th>\n",
       "      <td>General Operative</td>\n",
       "      <td>The Best Connection Employment Group</td>\n",
       "      <td>Banbury</td>\n",
       "      <td>hour</td>\n",
       "      <td>8.92</td>\n",
       "      <td>13718.96</td>\n",
       "      <td>0</td>\n",
       "      <td>0</td>\n",
       "      <td>general operative</td>\n",
       "      <td>the best connection employment group</td>\n",
       "    </tr>\n",
       "  </tbody>\n",
       "</table>\n",
       "<p>1250 rows × 10 columns</p>\n",
       "</div>"
      ],
      "text/plain": [
       "                                                  Title  \\\n",
       "0         Computer Vision and Machine Learning Engineer   \n",
       "3                             Data and Research Analyst   \n",
       "5           DATA SCIENTIST | VERV | LONDON OR SHEFFIELD   \n",
       "6                Data Scientist - Machine Learning\\nnew   \n",
       "7                         Principal Data Scientist\\nnew   \n",
       "...                                                 ...   \n",
       "4960  Customer Success Manager, (Customer Experience...   \n",
       "4961  Employment Advisor - Fixed Term Contract (JETS...   \n",
       "4963                                 Guest Speaker\\nnew   \n",
       "4964                       Multi Skilled Operative\\nnew   \n",
       "5024                                  General Operative   \n",
       "\n",
       "                                   Company   Location Salary_freq  \\\n",
       "0                                 FLOX Ltd     London        year   \n",
       "3                       Cancer Research UK  Stratford        year   \n",
       "5                       Austin Consultants     London        year   \n",
       "6                                  Harnham     London         day   \n",
       "7                                    Nesta     London        year   \n",
       "...                                    ...        ...         ...   \n",
       "4960    The Purely Recruitment Company Ltd     Didcot        year   \n",
       "4961                     Activate Learning     Oxford        year   \n",
       "4963                 Oxford Summer Courses     Oxford        hour   \n",
       "4964             Grand Union Housing Group   Brackley        year   \n",
       "5024  The Best Connection Employment Group    Banbury        hour   \n",
       "\n",
       "      salary_mean  salary_mean_normalised High or low (50%) High or low (75%)  \\\n",
       "0        30000.00                30000.00                 1                 1   \n",
       "3        31000.00                31000.00                 1                 1   \n",
       "5        60000.00                60000.00                 1                 1   \n",
       "6          525.00               134400.00                 1                 1   \n",
       "7        51500.00                51500.00                 1                 1   \n",
       "...           ...                     ...               ...               ...   \n",
       "4960     60000.00                60000.00                 1                 1   \n",
       "4961     27012.00                27012.00                 0                 0   \n",
       "4963       100.00               153800.00                 1                 1   \n",
       "4964     28773.00                28773.00                 1                 1   \n",
       "5024         8.92                13718.96                 0                 0   \n",
       "\n",
       "                                            Title clean  \\\n",
       "0         computer vision and machine learning engineer   \n",
       "3                             data and research analyst   \n",
       "5           data scientist   verv   london or sheffield   \n",
       "6                    data scientist   machine learning    \n",
       "7                             principal data scientist    \n",
       "...                                                 ...   \n",
       "4960  customer success manager,  customer experience...   \n",
       "4961  employment advisor   fixed term contract  jets...   \n",
       "4963                                     guest speaker    \n",
       "4964                           multi skilled operative    \n",
       "5024                                  general operative   \n",
       "\n",
       "                             Company_clean  \n",
       "0                                 flox ltd  \n",
       "3                       cancer research uk  \n",
       "5                       austin consultants  \n",
       "6                                  harnham  \n",
       "7                                    nesta  \n",
       "...                                    ...  \n",
       "4960    the purely recruitment company ltd  \n",
       "4961                     activate learning  \n",
       "4963                 oxford summer courses  \n",
       "4964             grand union housing group  \n",
       "5024  the best connection employment group  \n",
       "\n",
       "[1250 rows x 10 columns]"
      ]
     },
     "execution_count": 29,
     "metadata": {},
     "output_type": "execute_result"
    }
   ],
   "source": [
    "df_to_clean"
   ]
  },
  {
   "cell_type": "code",
   "execution_count": 30,
   "metadata": {},
   "outputs": [],
   "source": [
    "df_to_clean.drop(columns=['Title', 'Company', 'salary_mean', 'Salary_freq'], axis=1, inplace=True)"
   ]
  },
  {
   "cell_type": "code",
   "execution_count": 31,
   "metadata": {},
   "outputs": [
    {
     "data": {
      "text/html": [
       "<div>\n",
       "<style scoped>\n",
       "    .dataframe tbody tr th:only-of-type {\n",
       "        vertical-align: middle;\n",
       "    }\n",
       "\n",
       "    .dataframe tbody tr th {\n",
       "        vertical-align: top;\n",
       "    }\n",
       "\n",
       "    .dataframe thead th {\n",
       "        text-align: right;\n",
       "    }\n",
       "</style>\n",
       "<table border=\"1\" class=\"dataframe\">\n",
       "  <thead>\n",
       "    <tr style=\"text-align: right;\">\n",
       "      <th></th>\n",
       "      <th>Location</th>\n",
       "      <th>salary_mean_normalised</th>\n",
       "      <th>High or low (50%)</th>\n",
       "      <th>High or low (75%)</th>\n",
       "      <th>Title clean</th>\n",
       "      <th>Company_clean</th>\n",
       "    </tr>\n",
       "  </thead>\n",
       "  <tbody>\n",
       "    <tr>\n",
       "      <th>0</th>\n",
       "      <td>London</td>\n",
       "      <td>30000.0</td>\n",
       "      <td>1</td>\n",
       "      <td>1</td>\n",
       "      <td>computer vision and machine learning engineer</td>\n",
       "      <td>flox ltd</td>\n",
       "    </tr>\n",
       "    <tr>\n",
       "      <th>3</th>\n",
       "      <td>Stratford</td>\n",
       "      <td>31000.0</td>\n",
       "      <td>1</td>\n",
       "      <td>1</td>\n",
       "      <td>data and research analyst</td>\n",
       "      <td>cancer research uk</td>\n",
       "    </tr>\n",
       "    <tr>\n",
       "      <th>5</th>\n",
       "      <td>London</td>\n",
       "      <td>60000.0</td>\n",
       "      <td>1</td>\n",
       "      <td>1</td>\n",
       "      <td>data scientist   verv   london or sheffield</td>\n",
       "      <td>austin consultants</td>\n",
       "    </tr>\n",
       "    <tr>\n",
       "      <th>6</th>\n",
       "      <td>London</td>\n",
       "      <td>134400.0</td>\n",
       "      <td>1</td>\n",
       "      <td>1</td>\n",
       "      <td>data scientist   machine learning</td>\n",
       "      <td>harnham</td>\n",
       "    </tr>\n",
       "    <tr>\n",
       "      <th>7</th>\n",
       "      <td>London</td>\n",
       "      <td>51500.0</td>\n",
       "      <td>1</td>\n",
       "      <td>1</td>\n",
       "      <td>principal data scientist</td>\n",
       "      <td>nesta</td>\n",
       "    </tr>\n",
       "  </tbody>\n",
       "</table>\n",
       "</div>"
      ],
      "text/plain": [
       "    Location  salary_mean_normalised High or low (50%) High or low (75%)  \\\n",
       "0     London                 30000.0                 1                 1   \n",
       "3  Stratford                 31000.0                 1                 1   \n",
       "5     London                 60000.0                 1                 1   \n",
       "6     London                134400.0                 1                 1   \n",
       "7     London                 51500.0                 1                 1   \n",
       "\n",
       "                                     Title clean       Company_clean  \n",
       "0  computer vision and machine learning engineer            flox ltd  \n",
       "3                      data and research analyst  cancer research uk  \n",
       "5    data scientist   verv   london or sheffield  austin consultants  \n",
       "6             data scientist   machine learning              harnham  \n",
       "7                      principal data scientist                nesta  "
      ]
     },
     "execution_count": 31,
     "metadata": {},
     "output_type": "execute_result"
    }
   ],
   "source": [
    "df_to_clean.head()"
   ]
  },
  {
   "cell_type": "code",
   "execution_count": 32,
   "metadata": {},
   "outputs": [],
   "source": [
    "df_to_clean.to_csv('df_to_clean_v2.csv', index=False)"
   ]
  }
 ],
 "metadata": {
  "hide_input": false,
  "kernelspec": {
   "display_name": "Python 3",
   "language": "python",
   "name": "python3"
  },
  "language_info": {
   "codemirror_mode": {
    "name": "ipython",
    "version": 3
   },
   "file_extension": ".py",
   "mimetype": "text/x-python",
   "name": "python",
   "nbconvert_exporter": "python",
   "pygments_lexer": "ipython3",
   "version": "3.7.6"
  },
  "toc": {
   "base_numbering": 1,
   "nav_menu": {},
   "number_sections": false,
   "sideBar": true,
   "skip_h1_title": true,
   "title_cell": "Table of Contents",
   "title_sidebar": "Contents",
   "toc_cell": false,
   "toc_position": {},
   "toc_section_display": "block",
   "toc_window_display": false
  },
  "varInspector": {
   "cols": {
    "lenName": 16,
    "lenType": 16,
    "lenVar": 40
   },
   "kernels_config": {
    "python": {
     "delete_cmd_postfix": "",
     "delete_cmd_prefix": "del ",
     "library": "var_list.py",
     "varRefreshCmd": "print(var_dic_list())"
    },
    "r": {
     "delete_cmd_postfix": ") ",
     "delete_cmd_prefix": "rm(",
     "library": "var_list.r",
     "varRefreshCmd": "cat(var_dic_list()) "
    }
   },
   "types_to_exclude": [
    "module",
    "function",
    "builtin_function_or_method",
    "instance",
    "_Feature"
   ],
   "window_display": false
  }
 },
 "nbformat": 4,
 "nbformat_minor": 1
}
